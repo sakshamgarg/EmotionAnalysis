{
  "cells": [
    {
      "cell_type": "code",
      "execution_count": 1,
      "metadata": {
        "colab": {
          "base_uri": "https://localhost:8080/",
          "height": 1000
        },
        "id": "POjdNgb-JrI8",
        "outputId": "efe8142f-b356-4bc4-e340-c86678f487a7"
      },
      "outputs": [
        {
          "output_type": "stream",
          "name": "stdout",
          "text": [
            "Collecting keras-tuner\n",
            "  Downloading keras_tuner-1.1.2-py3-none-any.whl (133 kB)\n",
            "\u001b[?25l\r\u001b[K     |██▌                             | 10 kB 18.1 MB/s eta 0:00:01\r\u001b[K     |█████                           | 20 kB 9.6 MB/s eta 0:00:01\r\u001b[K     |███████▍                        | 30 kB 7.9 MB/s eta 0:00:01\r\u001b[K     |█████████▉                      | 40 kB 3.5 MB/s eta 0:00:01\r\u001b[K     |████████████▎                   | 51 kB 3.5 MB/s eta 0:00:01\r\u001b[K     |██████████████▊                 | 61 kB 4.2 MB/s eta 0:00:01\r\u001b[K     |█████████████████▏              | 71 kB 4.4 MB/s eta 0:00:01\r\u001b[K     |███████████████████▋            | 81 kB 4.5 MB/s eta 0:00:01\r\u001b[K     |██████████████████████          | 92 kB 4.9 MB/s eta 0:00:01\r\u001b[K     |████████████████████████▌       | 102 kB 4.2 MB/s eta 0:00:01\r\u001b[K     |███████████████████████████     | 112 kB 4.2 MB/s eta 0:00:01\r\u001b[K     |█████████████████████████████▍  | 122 kB 4.2 MB/s eta 0:00:01\r\u001b[K     |███████████████████████████████▉| 133 kB 4.2 MB/s eta 0:00:01\r\u001b[K     |████████████████████████████████| 133 kB 4.2 MB/s \n",
            "\u001b[?25hRequirement already satisfied: requests in /usr/local/lib/python3.7/dist-packages (from keras-tuner) (2.23.0)\n",
            "Requirement already satisfied: tensorboard in /usr/local/lib/python3.7/dist-packages (from keras-tuner) (2.8.0)\n",
            "Collecting kt-legacy\n",
            "  Downloading kt_legacy-1.0.4-py3-none-any.whl (9.6 kB)\n",
            "Requirement already satisfied: packaging in /usr/local/lib/python3.7/dist-packages (from keras-tuner) (21.3)\n",
            "Requirement already satisfied: ipython in /usr/local/lib/python3.7/dist-packages (from keras-tuner) (5.5.0)\n",
            "Requirement already satisfied: numpy in /usr/local/lib/python3.7/dist-packages (from keras-tuner) (1.21.6)\n",
            "Requirement already satisfied: pexpect in /usr/local/lib/python3.7/dist-packages (from ipython->keras-tuner) (4.8.0)\n",
            "Requirement already satisfied: pickleshare in /usr/local/lib/python3.7/dist-packages (from ipython->keras-tuner) (0.7.5)\n",
            "Requirement already satisfied: prompt-toolkit<2.0.0,>=1.0.4 in /usr/local/lib/python3.7/dist-packages (from ipython->keras-tuner) (1.0.18)\n",
            "Requirement already satisfied: traitlets>=4.2 in /usr/local/lib/python3.7/dist-packages (from ipython->keras-tuner) (5.1.1)\n",
            "Requirement already satisfied: decorator in /usr/local/lib/python3.7/dist-packages (from ipython->keras-tuner) (4.4.2)\n",
            "Requirement already satisfied: pygments in /usr/local/lib/python3.7/dist-packages (from ipython->keras-tuner) (2.6.1)\n",
            "Requirement already satisfied: setuptools>=18.5 in /usr/local/lib/python3.7/dist-packages (from ipython->keras-tuner) (57.4.0)\n",
            "Requirement already satisfied: simplegeneric>0.8 in /usr/local/lib/python3.7/dist-packages (from ipython->keras-tuner) (0.8.1)\n",
            "Requirement already satisfied: wcwidth in /usr/local/lib/python3.7/dist-packages (from prompt-toolkit<2.0.0,>=1.0.4->ipython->keras-tuner) (0.2.5)\n",
            "Requirement already satisfied: six>=1.9.0 in /usr/local/lib/python3.7/dist-packages (from prompt-toolkit<2.0.0,>=1.0.4->ipython->keras-tuner) (1.15.0)\n",
            "Requirement already satisfied: pyparsing!=3.0.5,>=2.0.2 in /usr/local/lib/python3.7/dist-packages (from packaging->keras-tuner) (3.0.8)\n",
            "Requirement already satisfied: ptyprocess>=0.5 in /usr/local/lib/python3.7/dist-packages (from pexpect->ipython->keras-tuner) (0.7.0)\n",
            "Requirement already satisfied: certifi>=2017.4.17 in /usr/local/lib/python3.7/dist-packages (from requests->keras-tuner) (2021.10.8)\n",
            "Requirement already satisfied: idna<3,>=2.5 in /usr/local/lib/python3.7/dist-packages (from requests->keras-tuner) (2.10)\n",
            "Requirement already satisfied: urllib3!=1.25.0,!=1.25.1,<1.26,>=1.21.1 in /usr/local/lib/python3.7/dist-packages (from requests->keras-tuner) (1.24.3)\n",
            "Requirement already satisfied: chardet<4,>=3.0.2 in /usr/local/lib/python3.7/dist-packages (from requests->keras-tuner) (3.0.4)\n",
            "Requirement already satisfied: absl-py>=0.4 in /usr/local/lib/python3.7/dist-packages (from tensorboard->keras-tuner) (1.0.0)\n",
            "Requirement already satisfied: tensorboard-plugin-wit>=1.6.0 in /usr/local/lib/python3.7/dist-packages (from tensorboard->keras-tuner) (1.8.1)\n",
            "Requirement already satisfied: wheel>=0.26 in /usr/local/lib/python3.7/dist-packages (from tensorboard->keras-tuner) (0.37.1)\n",
            "Requirement already satisfied: google-auth-oauthlib<0.5,>=0.4.1 in /usr/local/lib/python3.7/dist-packages (from tensorboard->keras-tuner) (0.4.6)\n",
            "Requirement already satisfied: tensorboard-data-server<0.7.0,>=0.6.0 in /usr/local/lib/python3.7/dist-packages (from tensorboard->keras-tuner) (0.6.1)\n",
            "Requirement already satisfied: markdown>=2.6.8 in /usr/local/lib/python3.7/dist-packages (from tensorboard->keras-tuner) (3.3.6)\n",
            "Requirement already satisfied: grpcio>=1.24.3 in /usr/local/lib/python3.7/dist-packages (from tensorboard->keras-tuner) (1.44.0)\n",
            "Requirement already satisfied: protobuf>=3.6.0 in /usr/local/lib/python3.7/dist-packages (from tensorboard->keras-tuner) (3.17.3)\n",
            "Requirement already satisfied: werkzeug>=0.11.15 in /usr/local/lib/python3.7/dist-packages (from tensorboard->keras-tuner) (1.0.1)\n",
            "Requirement already satisfied: google-auth<3,>=1.6.3 in /usr/local/lib/python3.7/dist-packages (from tensorboard->keras-tuner) (1.35.0)\n",
            "Requirement already satisfied: cachetools<5.0,>=2.0.0 in /usr/local/lib/python3.7/dist-packages (from google-auth<3,>=1.6.3->tensorboard->keras-tuner) (4.2.4)\n",
            "Requirement already satisfied: pyasn1-modules>=0.2.1 in /usr/local/lib/python3.7/dist-packages (from google-auth<3,>=1.6.3->tensorboard->keras-tuner) (0.2.8)\n",
            "Requirement already satisfied: rsa<5,>=3.1.4 in /usr/local/lib/python3.7/dist-packages (from google-auth<3,>=1.6.3->tensorboard->keras-tuner) (4.8)\n",
            "Requirement already satisfied: requests-oauthlib>=0.7.0 in /usr/local/lib/python3.7/dist-packages (from google-auth-oauthlib<0.5,>=0.4.1->tensorboard->keras-tuner) (1.3.1)\n",
            "Requirement already satisfied: importlib-metadata>=4.4 in /usr/local/lib/python3.7/dist-packages (from markdown>=2.6.8->tensorboard->keras-tuner) (4.11.3)\n",
            "Requirement already satisfied: zipp>=0.5 in /usr/local/lib/python3.7/dist-packages (from importlib-metadata>=4.4->markdown>=2.6.8->tensorboard->keras-tuner) (3.8.0)\n",
            "Requirement already satisfied: typing-extensions>=3.6.4 in /usr/local/lib/python3.7/dist-packages (from importlib-metadata>=4.4->markdown>=2.6.8->tensorboard->keras-tuner) (4.2.0)\n",
            "Requirement already satisfied: pyasn1<0.5.0,>=0.4.6 in /usr/local/lib/python3.7/dist-packages (from pyasn1-modules>=0.2.1->google-auth<3,>=1.6.3->tensorboard->keras-tuner) (0.4.8)\n",
            "Requirement already satisfied: oauthlib>=3.0.0 in /usr/local/lib/python3.7/dist-packages (from requests-oauthlib>=0.7.0->google-auth-oauthlib<0.5,>=0.4.1->tensorboard->keras-tuner) (3.2.0)\n",
            "Installing collected packages: kt-legacy, keras-tuner\n",
            "Successfully installed keras-tuner-1.1.2 kt-legacy-1.0.4\n",
            "Requirement already satisfied: nltk in /usr/local/lib/python3.7/dist-packages (3.2.5)\n",
            "Collecting nltk\n",
            "  Downloading nltk-3.7-py3-none-any.whl (1.5 MB)\n",
            "\u001b[K     |████████████████████████████████| 1.5 MB 4.2 MB/s \n",
            "\u001b[?25hRequirement already satisfied: click in /usr/local/lib/python3.7/dist-packages (from nltk) (7.1.2)\n",
            "Collecting regex>=2021.8.3\n",
            "  Downloading regex-2022.4.24-cp37-cp37m-manylinux_2_17_x86_64.manylinux2014_x86_64.whl (749 kB)\n",
            "\u001b[K     |████████████████████████████████| 749 kB 40.8 MB/s \n",
            "\u001b[?25hRequirement already satisfied: tqdm in /usr/local/lib/python3.7/dist-packages (from nltk) (4.64.0)\n",
            "Requirement already satisfied: joblib in /usr/local/lib/python3.7/dist-packages (from nltk) (1.1.0)\n",
            "Installing collected packages: regex, nltk\n",
            "\u001b[33m  WARNING: The script nltk is installed in '/root/.local/bin' which is not on PATH.\n",
            "  Consider adding this directory to PATH or, if you prefer to suppress this warning, use --no-warn-script-location.\u001b[0m\n",
            "Successfully installed nltk-3.7 regex-2022.4.24\n"
          ]
        },
        {
          "output_type": "display_data",
          "data": {
            "application/vnd.colab-display-data+json": {
              "pip_warning": {
                "packages": [
                  "nltk",
                  "regex"
                ]
              }
            }
          },
          "metadata": {}
        },
        {
          "output_type": "stream",
          "name": "stdout",
          "text": [
            "[nltk_data] Downloading package stopwords to /root/nltk_data...\n",
            "[nltk_data]   Unzipping corpora/stopwords.zip.\n",
            "[nltk_data] Downloading package punkt to /root/nltk_data...\n",
            "[nltk_data]   Unzipping tokenizers/punkt.zip.\n",
            "[nltk_data] Downloading package wordnet to /root/nltk_data...\n",
            "[nltk_data]   Unzipping corpora/wordnet.zip.\n"
          ]
        }
      ],
      "source": [
        "import pandas as pd\n",
        "import gc\n",
        "import warnings\n",
        "from sklearn.model_selection import train_test_split\n",
        "import seaborn as sns\n",
        "import matplotlib.pyplot as plt\n",
        "import string\n",
        "import numpy as np\n",
        "import tensorflow as tf\n",
        "from tqdm import tqdm\n",
        "\n",
        "\n",
        "%pip install keras-tuner --upgrade\n",
        "import keras_tuner as kt\n",
        "from textblob import TextBlob\n",
        "from nltk.text import Text  \n",
        "import matplotlib.pyplot as plt\n",
        "from nltk.probability import FreqDist\n",
        "\n",
        "%pip install --user -U nltk\n",
        "\n",
        "import re\n",
        "import nltk\n",
        "from nltk.corpus import stopwords\n",
        "from sklearn.metrics import confusion_matrix, f1_score, precision_score, recall_score\n",
        "import random\n",
        "import nltk as nlp\n",
        "\n",
        "from sklearn.utils import resample\n",
        "warnings.filterwarnings('ignore')\n",
        "\n",
        "nltk.download('stopwords')\n",
        "nltk.download('punkt')\n",
        "nltk.download('wordnet')\n",
        "stopwords = stopwords.words('english')\n",
        "#add some unnecessary word to stopwords list\n",
        "stopwords.append(\"rt\")\n",
        "stopwords.append(\"u\")\n",
        "stopwords.append(\"amp\")\n",
        "stopwords.append(\"w\")\n",
        "stopwords.append(\"th\")"
      ]
    },
    {
      "cell_type": "code",
      "source": [
        "#------------------------------- Profiling tweet data from democrats and republicans -----------------------------------------\n",
        "\n",
        "#This is our dataset. It has labeled tweets and sentiment attached to them.\n",
        "data_tweets = pd.read_csv('ExtractedTweets.csv')\n",
        "\n",
        "\n",
        "print(np.unique(data_tweets.Party, return_counts=True))"
      ],
      "metadata": {
        "colab": {
          "base_uri": "https://localhost:8080/"
        },
        "id": "OQG3kWP2YxER",
        "outputId": "70ab2736-9a1e-40cc-a3fd-59ace5f78aea"
      },
      "execution_count": 2,
      "outputs": [
        {
          "output_type": "stream",
          "name": "stdout",
          "text": [
            "(array(['Democrat', 'Republican'], dtype=object), array([42068, 44392]))\n"
          ]
        }
      ]
    },
    {
      "cell_type": "code",
      "source": [
        "data_tweets.Tweet[0]"
      ],
      "metadata": {
        "colab": {
          "base_uri": "https://localhost:8080/",
          "height": 37
        },
        "id": "slLmk6WeYxYo",
        "outputId": "136156b0-a874-4f76-90ef-10a2bc842aa4"
      },
      "execution_count": 3,
      "outputs": [
        {
          "output_type": "execute_result",
          "data": {
            "text/plain": [
              "'Today, Senate Dems vote to #SaveTheInternet. Proud to support similar #NetNeutrality legislation here in the House… https://t.co/n3tggDLU1L'"
            ],
            "application/vnd.google.colaboratory.intrinsic+json": {
              "type": "string"
            }
          },
          "metadata": {},
          "execution_count": 3
        }
      ]
    },
    {
      "cell_type": "code",
      "source": [
        "#we created 2 different class as democrat and republican\n",
        "democrat=data_tweets[data_tweets.Party==\"Democrat\"]\n",
        "republican=data_tweets[data_tweets.Party==\"Republican\"]"
      ],
      "metadata": {
        "id": "l2JhuOhPYyCG"
      },
      "execution_count": 4,
      "outputs": []
    },
    {
      "cell_type": "code",
      "source": [
        "def preprocess_text(df):\n",
        "\n",
        "  ret_list=[]\n",
        "  for d in df.Tweet:\n",
        "    d=re.sub(r'http\\S+', '', d) #remove links\n",
        "    d=re.sub(\"[^a-zA-Z]\", \" \", d) #remove all characters except letters\n",
        "    d=d.lower() #convert all words to lowercase\n",
        "    d=nltk.word_tokenize(d) #split sentences into word\n",
        "    d=[word for word in d if not word in set(stopwords)] #add to stopwords list if unnecessary words.\n",
        "    d=\" \".join(d)\n",
        "    ret_list.append(d) #append words to list\n",
        "\n",
        "  return ret_list\n",
        "\n",
        "democrat_list = preprocess_text(democrat)\n",
        "republican_list = preprocess_text(republican)"
      ],
      "metadata": {
        "id": "TmthGeKeZzCY"
      },
      "execution_count": 5,
      "outputs": []
    },
    {
      "cell_type": "code",
      "source": [
        ""
      ],
      "metadata": {
        "id": "ag9sOW7RaY0Y"
      },
      "execution_count": 5,
      "outputs": []
    },
    {
      "cell_type": "code",
      "source": [
        "def additional_preprocessing(lst):\n",
        "\n",
        "  lst=[word.replace(\"'\",\"\") for word in lst]\n",
        "  lst=[word.replace(\"[\", \"\") for word in lst]\n",
        "  lst=[word.replace(\"]\",\"\") for word in lst]\n",
        "  lst=[word.replace(\",\", \"\") for word in lst]\n",
        "  return lst\n",
        "\n",
        "#Contains words that republicans and democrats use :\n",
        "democrat_tweets = additional_preprocessing(str(democrat_list).split())\n",
        "republican_tweets = additional_preprocessing(str(republican_list).split())\n",
        "\n",
        "\n",
        "#print(\"Democrat tweets word length:\",len(democrat_tweets))\n",
        "#print(\"Republican tweets word length:\",len(republican_tweets))\n"
      ],
      "metadata": {
        "id": "AqORVDS0a5GY"
      },
      "execution_count": 6,
      "outputs": []
    },
    {
      "cell_type": "code",
      "source": [
        "#Frequency of words used by both parties \n",
        "fdist_democrat = FreqDist(democrat_tweets)\n",
        "fdist_republican=FreqDist(republican_tweets)\n"
      ],
      "metadata": {
        "id": "gdmIYJnOa5W8"
      },
      "execution_count": 7,
      "outputs": []
    },
    {
      "cell_type": "code",
      "source": [
        "plt.subplots(figsize=(10,5))\n",
        "fdist_democrat.plot(30,title=\"Democrat Tweets\")\n",
        "plt.subplots(figsize=(10,5))\n",
        "fdist_republican.plot(30,title=\"Republican Tweets\")\n"
      ],
      "metadata": {
        "colab": {
          "base_uri": "https://localhost:8080/",
          "height": 762
        },
        "id": "JE_iV27HbG4a",
        "outputId": "cb3850e2-404e-4a0c-eca4-ed7721f1a31e"
      },
      "execution_count": 8,
      "outputs": [
        {
          "output_type": "display_data",
          "data": {
            "text/plain": [
              "<Figure size 720x360 with 1 Axes>"
            ],
            "image/png": "[encoded data removed]"
          },
          "metadata": {
            "needs_background": "light"
          }
        },
        {
          "output_type": "display_data",
          "data": {
            "text/plain": [
              "<Figure size 720x360 with 1 Axes>"
            ],
            "image/png": "[encoded data removed]"
          },
          "metadata": {
            "needs_background": "light"
          }
        }
      ]
    },
    {
      "cell_type": "code",
      "source": [
        "\n",
        "democrat_tweet=Text(democrat_tweets)\n",
        "republican_tweet=Text(republican_tweets)\n"
      ],
      "metadata": {
        "id": "-JrxxUMlcrOk"
      },
      "execution_count": 9,
      "outputs": []
    },
    {
      "cell_type": "code",
      "source": [
        "print(\"Lex Plot for Democrats :\")\n",
        "plt.subplots(figsize=(10,5))\n",
        "democrat_tweet.dispersion_plot([\"vote\",\"democracy\",\"freedom\",\"america\",\"american\",\"tax\",\"trump\",\"clinton\"])\n",
        "\n"
      ],
      "metadata": {
        "colab": {
          "base_uri": "https://localhost:8080/",
          "height": 367
        },
        "id": "2KbqyKqscrpf",
        "outputId": "f979f407-d3d7-4a0d-e609-b2330a16c471"
      },
      "execution_count": 10,
      "outputs": [
        {
          "output_type": "stream",
          "name": "stdout",
          "text": [
            "Lex Plot for Democrats :\n"
          ]
        },
        {
          "output_type": "display_data",
          "data": {
            "text/plain": [
              "<Figure size 720x360 with 1 Axes>"
            ],
            "image/png": "[encoded data removed]"
          },
          "metadata": {
            "needs_background": "light"
          }
        }
      ]
    },
    {
      "cell_type": "code",
      "source": [
        "print(\"Lex Plot for Republicans :\")\n",
        "plt.subplots(figsize=(10,5))\n",
        "republican_tweet.dispersion_plot([\"vote\",\"democracy\",\"freedom\",\"america\",\"american\",\"tax\",\"trump\",\"clinton\"])\n"
      ],
      "metadata": {
        "colab": {
          "base_uri": "https://localhost:8080/",
          "height": 367
        },
        "id": "JST2WqIzc42J",
        "outputId": "723a93eb-2ef6-48ea-f0c2-8823f45b9651"
      },
      "execution_count": 11,
      "outputs": [
        {
          "output_type": "stream",
          "name": "stdout",
          "text": [
            "Lex Plot for Republicans :\n"
          ]
        },
        {
          "output_type": "display_data",
          "data": {
            "text/plain": [
              "<Figure size 720x360 with 1 Axes>"
            ],
            "image/png": "[encoded data removed]"
          },
          "metadata": {
            "needs_background": "light"
          }
        }
      ]
    },
    {
      "cell_type": "code",
      "source": [
        "democratblob=TextBlob(str(democrat_tweets))\n",
        "republicanblob=TextBlob(str(republican_tweets))\n",
        "\n",
        "print(\"Democratic Sentiment : \",democratblob.sentiment)\n",
        "print(\"Republican Sentiment : \",republicanblob.sentiment)"
      ],
      "metadata": {
        "colab": {
          "base_uri": "https://localhost:8080/"
        },
        "id": "bI7kh29cX3UQ",
        "outputId": "a4b3e621-ff07-4663-eb9b-3c1eb20d592e"
      },
      "execution_count": 12,
      "outputs": [
        {
          "output_type": "stream",
          "name": "stdout",
          "text": [
            "Democratic Sentiment :  Sentiment(polarity=0.1735748367205931, subjectivity=0.48133038511387327)\n",
            "Republican Sentiment :  Sentiment(polarity=0.20987022440527497, subjectivity=0.476376033818089)\n"
          ]
        }
      ]
    },
    {
      "cell_type": "code",
      "source": [
        ""
      ],
      "metadata": {
        "id": "7m5R4so0X3qp"
      },
      "execution_count": 12,
      "outputs": []
    },
    {
      "cell_type": "code",
      "source": [
        "# -------------------------------- Emotion Detection Models ------------------------------------"
      ],
      "metadata": {
        "id": "ZtxTDJsiX3-J"
      },
      "execution_count": 13,
      "outputs": []
    },
    {
      "cell_type": "code",
      "source": [
        "#This is our dataset. It has labeled tweets and sentiment attached to them.\n",
        "data = pd.read_csv('tweet_emotions.csv')"
      ],
      "metadata": {
        "id": "UajKACEzX4Lt"
      },
      "execution_count": 14,
      "outputs": []
    },
    {
      "cell_type": "code",
      "source": [
        "data.head()"
      ],
      "metadata": {
        "colab": {
          "base_uri": "https://localhost:8080/",
          "height": 204
        },
        "id": "zyyMoVuFX4Yh",
        "outputId": "0a288d24-f833-43d2-abcf-41cc70c69620"
      },
      "execution_count": 15,
      "outputs": [
        {
          "output_type": "execute_result",
          "data": {
            "text/plain": [
              "     tweet_id   sentiment                                            content\n",
              "0  1956967341       empty  @tiffanylue i know  i was listenin to bad habi...\n",
              "1  1956967666     sadness  Layin n bed with a headache  ughhhh...waitin o...\n",
              "2  1956967696     sadness                Funeral ceremony...gloomy friday...\n",
              "3  1956967789  enthusiasm               wants to hang out with friends SOON!\n",
              "4  1956968416     neutral  @dannycastillo We want to trade with someone w..."
            ],
            "text/html": [
              "\n",
              "  <div id=\"df-a16323b8-f9f1-4f29-adee-32e1a6bba48b\">\n",
              "    <div class=\"colab-df-container\">\n",
              "      <div>\n",
              "<style scoped>\n",
              "    .dataframe tbody tr th:only-of-type {\n",
              "        vertical-align: middle;\n",
              "    }\n",
              "\n",
              "    .dataframe tbody tr th {\n",
              "        vertical-align: top;\n",
              "    }\n",
              "\n",
              "    .dataframe thead th {\n",
              "        text-align: right;\n",
              "    }\n",
              "</style>\n",
              "<table border=\"1\" class=\"dataframe\">\n",
              "  <thead>\n",
              "    <tr style=\"text-align: right;\">\n",
              "      <th></th>\n",
              "      <th>tweet_id</th>\n",
              "      <th>sentiment</th>\n",
              "      <th>content</th>\n",
              "    </tr>\n",
              "  </thead>\n",
              "  <tbody>\n",
              "    <tr>\n",
              "      <th>0</th>\n",
              "      <td>1956967341</td>\n",
              "      <td>empty</td>\n",
              "      <td>@tiffanylue i know  i was listenin to bad habi...</td>\n",
              "    </tr>\n",
              "    <tr>\n",
              "      <th>1</th>\n",
              "      <td>1956967666</td>\n",
              "      <td>sadness</td>\n",
              "      <td>Layin n bed with a headache  ughhhh...waitin o...</td>\n",
              "    </tr>\n",
              "    <tr>\n",
              "      <th>2</th>\n",
              "      <td>1956967696</td>\n",
              "      <td>sadness</td>\n",
              "      <td>Funeral ceremony...gloomy friday...</td>\n",
              "    </tr>\n",
              "    <tr>\n",
              "      <th>3</th>\n",
              "      <td>1956967789</td>\n",
              "      <td>enthusiasm</td>\n",
              "      <td>wants to hang out with friends SOON!</td>\n",
              "    </tr>\n",
              "    <tr>\n",
              "      <th>4</th>\n",
              "      <td>1956968416</td>\n",
              "      <td>neutral</td>\n",
              "      <td>@dannycastillo We want to trade with someone w...</td>\n",
              "    </tr>\n",
              "  </tbody>\n",
              "</table>\n",
              "</div>\n",
              "      <button class=\"colab-df-convert\" onclick=\"convertToInteractive('df-a16323b8-f9f1-4f29-adee-32e1a6bba48b')\"\n",
              "              title=\"Convert this dataframe to an interactive table.\"\n",
              "              style=\"display:none;\">\n",
              "        \n",
              "  <svg xmlns=\"http://www.w3.org/2000/svg\" height=\"24px\"viewBox=\"0 0 24 24\"\n",
              "       width=\"24px\">\n",
              "    <path d=\"M0 0h24v24H0V0z\" fill=\"none\"/>\n",
              "    <path d=\"M18.56 5.44l.94 2.06.94-2.06 2.06-.94-2.06-.94-.94-2.06-.94 2.06-2.06.94zm-11 1L8.5 8.5l.94-2.06 2.06-.94-2.06-.94L8.5 2.5l-.94 2.06-2.06.94zm10 10l.94 2.06.94-2.06 2.06-.94-2.06-.94-.94-2.06-.94 2.06-2.06.94z\"/><path d=\"M17.41 7.96l-1.37-1.37c-.4-.4-.92-.59-1.43-.59-.52 0-1.04.2-1.43.59L10.3 9.45l-7.72 7.72c-.78.78-.78 2.05 0 2.83L4 21.41c.39.39.9.59 1.41.59.51 0 1.02-.2 1.41-.59l7.78-7.78 2.81-2.81c.8-.78.8-2.07 0-2.86zM5.41 20L4 18.59l7.72-7.72 1.47 1.35L5.41 20z\"/>\n",
              "  </svg>\n",
              "      </button>\n",
              "      \n",
              "  <style>\n",
              "    .colab-df-container {\n",
              "      display:flex;\n",
              "      flex-wrap:wrap;\n",
              "      gap: 12px;\n",
              "    }\n",
              "\n",
              "    .colab-df-convert {\n",
              "      background-color: #E8F0FE;\n",
              "      border: none;\n",
              "      border-radius: 50%;\n",
              "      cursor: pointer;\n",
              "      display: none;\n",
              "      fill: #1967D2;\n",
              "      height: 32px;\n",
              "      padding: 0 0 0 0;\n",
              "      width: 32px;\n",
              "    }\n",
              "\n",
              "    .colab-df-convert:hover {\n",
              "      background-color: #E2EBFA;\n",
              "      box-shadow: 0px 1px 2px rgba(60, 64, 67, 0.3), 0px 1px 3px 1px rgba(60, 64, 67, 0.15);\n",
              "      fill: #174EA6;\n",
              "    }\n",
              "\n",
              "    [theme=dark] .colab-df-convert {\n",
              "      background-color: #3B4455;\n",
              "      fill: #D2E3FC;\n",
              "    }\n",
              "\n",
              "    [theme=dark] .colab-df-convert:hover {\n",
              "      background-color: #434B5C;\n",
              "      box-shadow: 0px 1px 3px 1px rgba(0, 0, 0, 0.15);\n",
              "      filter: drop-shadow(0px 1px 2px rgba(0, 0, 0, 0.3));\n",
              "      fill: #FFFFFF;\n",
              "    }\n",
              "  </style>\n",
              "\n",
              "      <script>\n",
              "        const buttonEl =\n",
              "          document.querySelector('#df-a16323b8-f9f1-4f29-adee-32e1a6bba48b button.colab-df-convert');\n",
              "        buttonEl.style.display =\n",
              "          google.colab.kernel.accessAllowed ? 'block' : 'none';\n",
              "\n",
              "        async function convertToInteractive(key) {\n",
              "          const element = document.querySelector('#df-a16323b8-f9f1-4f29-adee-32e1a6bba48b');\n",
              "          const dataTable =\n",
              "            await google.colab.kernel.invokeFunction('convertToInteractive',\n",
              "                                                     [key], {});\n",
              "          if (!dataTable) return;\n",
              "\n",
              "          const docLinkHtml = 'Like what you see? Visit the ' +\n",
              "            '<a target=\"_blank\" href=https://colab.research.google.com/notebooks/data_table.ipynb>data table notebook</a>'\n",
              "            + ' to learn more about interactive tables.';\n",
              "          element.innerHTML = '';\n",
              "          dataTable['output_type'] = 'display_data';\n",
              "          await google.colab.output.renderOutput(dataTable, element);\n",
              "          const docLink = document.createElement('div');\n",
              "          docLink.innerHTML = docLinkHtml;\n",
              "          element.appendChild(docLink);\n",
              "        }\n",
              "      </script>\n",
              "    </div>\n",
              "  </div>\n",
              "  "
            ]
          },
          "metadata": {},
          "execution_count": 15
        }
      ]
    },
    {
      "cell_type": "code",
      "source": [
        "def preprocess_text_emotion(df):\n",
        "\n",
        "  ret_list=[]\n",
        "  for d in df.content:\n",
        "    d=re.sub(r'http\\S+', '', d) #remove links\n",
        "    d=re.sub(\"[^a-zA-Z]\", \" \", d) #remove all characters except letters\n",
        "    d=d.lower() #convert all words to lowercase\n",
        "    d=nltk.word_tokenize(d) #split sentences into word\n",
        "    d=[word for word in d if not word in set(stopwords)] #add to stopwords list if unnecessary words.\n",
        "    d=\" \".join(d)\n",
        "    ret_list.append(d) #append words to list\n",
        "\n",
        "  return ret_list\n",
        "\n",
        "#Creating cleaned column\n",
        "data['content'] = preprocess_text_emotion(data)"
      ],
      "metadata": {
        "id": "DhqLZpWwX4kW"
      },
      "execution_count": 16,
      "outputs": []
    },
    {
      "cell_type": "code",
      "source": [
        "#Looks like our data doesn't have any empty values\n",
        "data.isnull().sum()"
      ],
      "metadata": {
        "colab": {
          "base_uri": "https://localhost:8080/"
        },
        "id": "osANnjK4X4wk",
        "outputId": "ceae7d54-16a3-4a85-a0df-6c371f8f77e6"
      },
      "execution_count": 17,
      "outputs": [
        {
          "output_type": "execute_result",
          "data": {
            "text/plain": [
              "tweet_id     0\n",
              "sentiment    0\n",
              "content      0\n",
              "dtype: int64"
            ]
          },
          "metadata": {},
          "execution_count": 17
        }
      ]
    },
    {
      "cell_type": "code",
      "source": [
        "#Although, we see that there is a imbalance in the \n",
        "data.sentiment.value_counts()"
      ],
      "metadata": {
        "colab": {
          "base_uri": "https://localhost:8080/"
        },
        "id": "XNRgAJ0eX49l",
        "outputId": "168ed067-1a6b-430e-abc5-9eabbd3d4220"
      },
      "execution_count": 18,
      "outputs": [
        {
          "output_type": "execute_result",
          "data": {
            "text/plain": [
              "neutral       8638\n",
              "worry         8459\n",
              "happiness     5209\n",
              "sadness       5165\n",
              "love          3842\n",
              "surprise      2187\n",
              "fun           1776\n",
              "relief        1526\n",
              "hate          1323\n",
              "empty          827\n",
              "enthusiasm     759\n",
              "boredom        179\n",
              "anger          110\n",
              "Name: sentiment, dtype: int64"
            ]
          },
          "metadata": {},
          "execution_count": 18
        }
      ]
    },
    {
      "cell_type": "code",
      "source": [
        "#Splitting to train-test-val\n",
        "data_size = data.shape[0]\n",
        "print(\"Data Size: \",data_size)\n",
        "train_split = 0.75 * data_size\n",
        "print(\"Train Size: \",train_split)\n",
        "val_split = (1 - 0.75) * data_size\n",
        "test_split = 0.20 * val_split\n",
        "print(\"Test Size: \",test_split)\n",
        "val_split = (1 - 0.20) * val_split\n",
        "print(\"Validation Size: \",val_split)\n",
        "\n",
        "train_data = data.iloc[:int(train_split)]\n",
        "val_data = data.iloc[int(train_split) + 1: int(train_split) + int(val_split)]\n",
        "test_data = data.iloc[int(train_split) + int(val_split) + 1 : int(train_split) + int(val_split) + int(test_split)]\n"
      ],
      "metadata": {
        "colab": {
          "base_uri": "https://localhost:8080/"
        },
        "id": "JGVKTOlMX5Kt",
        "outputId": "cd8617bf-4d36-4ea7-dc24-e945a70b21c1"
      },
      "execution_count": 19,
      "outputs": [
        {
          "output_type": "stream",
          "name": "stdout",
          "text": [
            "Data Size:  40000\n",
            "Train Size:  30000.0\n",
            "Test Size:  2000.0\n",
            "Validation Size:  8000.0\n"
          ]
        }
      ]
    },
    {
      "cell_type": "code",
      "source": [
        "print(train_data.shape, val_data.shape, test_data.shape)"
      ],
      "metadata": {
        "colab": {
          "base_uri": "https://localhost:8080/"
        },
        "id": "gAl7GY8JX5ZD",
        "outputId": "cae2dacd-aa99-47c4-811a-9e7bfd268ae2"
      },
      "execution_count": 20,
      "outputs": [
        {
          "output_type": "stream",
          "name": "stdout",
          "text": [
            "(30000, 3) (7999, 3) (1999, 3)\n"
          ]
        }
      ]
    },
    {
      "cell_type": "code",
      "source": [
        "sns.set_style('dark')\n",
        "\n",
        "plt.figure(figsize=(16,8))\n",
        "plt.title('Data-Distribution')\n",
        "sns.histplot(train_data['sentiment'], kde=True, stat='density')\n",
        "plt.show()\n",
        "\n",
        "print(train_data['sentiment'].value_counts())"
      ],
      "metadata": {
        "colab": {
          "base_uri": "https://localhost:8080/",
          "height": 751
        },
        "id": "G9v0fIqWX5qo",
        "outputId": "83a088b0-899b-48a0-dc3b-a0340ca5b391"
      },
      "execution_count": 21,
      "outputs": [
        {
          "output_type": "display_data",
          "data": {
            "text/plain": [
              "<Figure size 1152x576 with 1 Axes>"
            ],
            "image/png": "[encoded data removed]"
          },
          "metadata": {}
        },
        {
          "output_type": "stream",
          "name": "stdout",
          "text": [
            "worry         7433\n",
            "neutral       6340\n",
            "sadness       4828\n",
            "happiness     2986\n",
            "love          2068\n",
            "surprise      1613\n",
            "hate          1187\n",
            "fun           1088\n",
            "relief        1021\n",
            "empty          659\n",
            "enthusiasm     522\n",
            "boredom        157\n",
            "anger           98\n",
            "Name: sentiment, dtype: int64\n"
          ]
        }
      ]
    },
    {
      "cell_type": "code",
      "execution_count": 22,
      "metadata": {
        "id": "5Gd80JDFJuwH",
        "colab": {
          "base_uri": "https://localhost:8080/"
        },
        "outputId": "b68ed94b-b145-4896-dc68-e72ddd08881a"
      },
      "outputs": [
        {
          "output_type": "execute_result",
          "data": {
            "text/plain": [
              "anger         6340\n",
              "relief        6340\n",
              "boredom       6340\n",
              "happiness     6340\n",
              "hate          6340\n",
              "fun           6340\n",
              "love          6340\n",
              "surprise      6340\n",
              "worry         6340\n",
              "enthusiasm    6340\n",
              "sadness       6340\n",
              "empty         6340\n",
              "neutral       6340\n",
              "Name: sentiment, dtype: int64"
            ]
          },
          "metadata": {},
          "execution_count": 22
        }
      ],
      "source": [
        "#Upsampling other classes to make a event count\n",
        "maxx = 3\n",
        "all_classes = data.sentiment.unique().tolist()\n",
        "target_majority = train_data[train_data.sentiment==all_classes[maxx]]\n",
        "\n",
        "#min_class = [0, 2, 5, 7, 8, 10, 11, 12]\n",
        "\n",
        "for cl in range(13):\n",
        "    train_minority = data[data.sentiment==all_classes[cl]]\n",
        "    train_minority_upsampled = resample(train_minority, replace=True, n_samples=len(target_majority), random_state=123)\n",
        "    if cl == 0:\n",
        "        train_upsampled = pd.concat([train_minority_upsampled, target_majority])\n",
        "        #train_upsampled = pd.concat([train_upsampled, ])\n",
        "    if cl>0 and cl!=maxx:\n",
        "        train_upsampled = pd.concat([train_minority_upsampled, train_upsampled])\n",
        "\n",
        "train_upsampled['sentiment'].value_counts() "
      ]
    },
    {
      "cell_type": "code",
      "execution_count": 23,
      "metadata": {
        "id": "HMpwVYNYJ8yt"
      },
      "outputs": [],
      "source": [
        "content_text = train_data.content.tolist()\n",
        "all_classes = train_data.sentiment.unique().tolist()"
      ]
    },
    {
      "cell_type": "code",
      "execution_count": 24,
      "metadata": {
        "id": "5LJc3wTPR9WA"
      },
      "outputs": [],
      "source": [
        "#Tokenizing Words\n",
        "token_data = tf.keras.preprocessing.text.Tokenizer(num_words=None,filters='!\"#$%&()*+,-./:;<=>?@[\\\\]^_`{|}~\\t\\n',lower=True,split=' ')\n",
        "token_data.fit_on_texts(content_text)\n",
        "#Encodes the text to numbers and creates a sequence out of it\n",
        "ind_text = token_data.texts_to_sequences(content_text)\n",
        "\n",
        "#Contains the dictionary of encoded words\n",
        "word_index = token_data.word_index"
      ]
    },
    {
      "cell_type": "code",
      "execution_count": 26,
      "metadata": {
        "colab": {
          "base_uri": "https://localhost:8080/"
        },
        "id": "HVjeYHAoSQRJ",
        "outputId": "4dfbb87b-0803-49ba-869b-05a790e34be8"
      },
      "outputs": [
        {
          "output_type": "stream",
          "name": "stdout",
          "text": [
            "[2056, 3222, 1316, 100]\n",
            "funeral ceremony gloomy friday\n",
            "funeral ceremony gloomy friday\n",
            "['empty', 'sadness', 'enthusiasm', 'neutral', 'worry', 'surprise', 'love', 'fun', 'hate', 'happiness', 'boredom', 'relief', 'anger']\n"
          ]
        }
      ],
      "source": [
        "'''\n",
        "print(ind_text[2])\n",
        "print(content_text[2])\n",
        "print(list(word_index.keys())[list(word_index.values()).index(2056)]+' '+list(word_index.keys())[list(word_index.values()).index(3222)]+' '+list(word_index.keys())[list(word_index.values()).index(1316)]+' '+list(word_index.keys())[list(word_index.values()).index(100)])\n",
        "print(all_classes)\n",
        "'''\n",
        "\n"
      ]
    },
    {
      "cell_type": "code",
      "execution_count": 25,
      "metadata": {
        "colab": {
          "base_uri": "https://localhost:8080/"
        },
        "id": "0fB5S24nJ-x0",
        "outputId": "32ff56b3-02a8-488b-e3c4-d76bc1354971"
      },
      "outputs": [
        {
          "output_type": "stream",
          "name": "stdout",
          "text": [
            "No. of Labels:  13\n"
          ]
        }
      ],
      "source": [
        "#Encoding the labels (classes)\n",
        "label_token = tf.keras.preprocessing.text.Tokenizer(num_words=len(all_classes), filters='!\"#$%&()*+,-./:;<=>?@[\\\\]^_`{|}~\\t\\n', lower=True, split=' ')\n",
        "classes = ' '.join(all_classes)\n",
        "label_token.fit_on_texts([classes])\n",
        "label_index = label_token.word_index\n",
        "print('No. of Labels: ',len(list(label_index)))\n",
        "\n",
        "label_index = {key:value-1 for key, value in label_index.items()}\n",
        "inv_label_index = {value:key for key, value in label_index.items()}\n",
        "\n"
      ]
    },
    {
      "cell_type": "code",
      "execution_count": 26,
      "metadata": {
        "colab": {
          "base_uri": "https://localhost:8080/"
        },
        "id": "W3Mdl22_KBfV",
        "outputId": "bc6194c2-378f-4db9-dd26-1f3e6eb0b262"
      },
      "outputs": [
        {
          "output_type": "stream",
          "name": "stdout",
          "text": [
            "Label_shape:  (30000,)\n",
            "max_input_length:  30\n",
            "x_train_shape:  (30000, 30) , y_train_shape:  (30000,)\n"
          ]
        }
      ],
      "source": [
        "y_train = []\n",
        "for i in train_data.sentiment:\n",
        "    y_train.append(label_index.get(i))\n",
        "y_train = np.array(y_train)\n",
        "print('Label_shape: ', y_train.shape)\n",
        "\n",
        "\n",
        "x_train = np.array(ind_text)\n",
        "max_inp_len = len(x_train[0])\n",
        "for step, i in enumerate(x_train):\n",
        "    if len(i) > max_inp_len:\n",
        "        max_inp_len = len(i)\n",
        "print('max_input_length: ',max_inp_len)\n",
        "\n",
        "x_train = tf.keras.preprocessing.sequence.pad_sequences(x_train, maxlen = max_inp_len, padding = 'post')\n",
        "print('x_train_shape: ',x_train.shape, ', y_train_shape: ', y_train.shape)"
      ]
    },
    {
      "cell_type": "code",
      "execution_count": 27,
      "metadata": {
        "id": "laxVGq_5R0-J",
        "colab": {
          "base_uri": "https://localhost:8080/"
        },
        "outputId": "bd94c681-beea-4da0-cbb0-72e88245f599"
      },
      "outputs": [
        {
          "output_type": "stream",
          "name": "stdout",
          "text": [
            "Val-Processing ...\n",
            "All_Val_samples:  7999\n",
            "Label_shape:  (7999,)\n",
            "(7999,) (7999,)\n",
            "------------------------------------------------------------\n",
            "Test_Preprocessing ...\n",
            "All_Val_samples:  1999\n",
            "Label_shape:  (1999,)\n",
            "(1999,) (1999,)\n"
          ]
        }
      ],
      "source": [
        "def val_and_test_preprocess(data_v_t, token_data, label_index):\n",
        "    \n",
        "    content_text = data_v_t.content.tolist()\n",
        "    all_classes = data_v_t.sentiment.unique().tolist()\n",
        "    ind_text = token_data.texts_to_sequences(content_text)\n",
        "    x_val = np.array(ind_text)\n",
        "\n",
        "    print('All_Val_samples: ', len(ind_text))\n",
        "    \n",
        "    y_val = []\n",
        "    for i in data_v_t.sentiment:\n",
        "        y_val.append(label_index.get(i))\n",
        "    y_val = np.array(y_val)\n",
        "    print('Label_shape: ', y_val.shape)\n",
        "    \n",
        "    return x_val, y_val\n",
        "\n",
        "\n",
        "print('Val-Processing ...')\n",
        "x_val, y_val = val_and_test_preprocess(val_data, token_data, label_index)\n",
        "print(x_val.shape, y_val.shape)\n",
        "print('---'*20)\n",
        "print('Test_Preprocessing ...')\n",
        "x_test, y_test = val_and_test_preprocess(test_data, token_data, label_index)\n",
        "print(x_test.shape, y_test.shape)"
      ]
    },
    {
      "cell_type": "code",
      "execution_count": 28,
      "metadata": {
        "colab": {
          "base_uri": "https://localhost:8080/"
        },
        "id": "vN-HygFGKDYQ",
        "outputId": "1d9a3a25-20e7-4da5-ee5a-26794511a2fd"
      },
      "outputs": [
        {
          "output_type": "stream",
          "name": "stdout",
          "text": [
            "x_val_shape:  (7999, 30) , y_val_shape:  (7999,)\n",
            "x_test_shape:  (1999, 30) , y_test_shape:  (1999,)\n"
          ]
        }
      ],
      "source": [
        "#Padding validation and test sets to make it common length\n",
        "x_val = tf.keras.preprocessing.sequence.pad_sequences(x_val, maxlen = max_inp_len, padding = 'post')\n",
        "print('x_val_shape: ',x_val.shape, ', y_val_shape: ', y_val.shape)\n",
        "x_test = tf.keras.preprocessing.sequence.pad_sequences(x_test, maxlen = max_inp_len, padding = 'post')\n",
        "print('x_test_shape: ',x_test.shape, ', y_test_shape: ', y_test.shape)"
      ]
    },
    {
      "cell_type": "code",
      "execution_count": 29,
      "metadata": {
        "colab": {
          "base_uri": "https://localhost:8080/",
          "height": 533
        },
        "id": "T5xOEVg0KGH2",
        "outputId": "b33101a6-68e8-4ccb-c4e6-d88001cd0ed6"
      },
      "outputs": [
        {
          "output_type": "execute_result",
          "data": {
            "text/plain": [
              "<IPython.core.display.Image object>"
            ],
            "image/png": "[encoded data removed]"
          },
          "metadata": {},
          "execution_count": 29
        }
      ],
      "source": [
        "\n",
        "stop_early = tf.keras.callbacks.EarlyStopping(monitor='val_loss', patience = 2)\n",
        "    \n",
        "input_1 = tf.keras.layers.Input(shape=(x_train.shape[-1],))\n",
        "embd_1 = tf.keras.layers.Embedding(input_dim = len(list(word_index)) + 1, output_dim=128)(input_1)\n",
        "bi_1 = tf.keras.layers.Bidirectional(tf.keras.layers.LSTM(units=64, return_sequences=True, dropout=0.3, recurrent_dropout=0.5), merge_mode = 'concat')(embd_1)\n",
        "lstm_1 = tf.keras.layers.LSTM(units=64, dropout=0.3, recurrent_dropout=0.5)(bi_1)\n",
        "dense_1 = tf.keras.layers.Dense(len(all_classes), activation='softmax')(lstm_1)\n",
        "\n",
        "model = tf.keras.models.Model(inputs = input_1, outputs = dense_1, name='Basic_RNN')\n",
        "model.compile(loss='sparse_categorical_crossentropy', optimizer='Adam', metrics=['accuracy'])\n",
        "\n",
        "tf.keras.utils.plot_model(model, show_shapes =True)"
      ]
    },
    {
      "cell_type": "code",
      "execution_count": 30,
      "metadata": {
        "colab": {
          "base_uri": "https://localhost:8080/"
        },
        "id": "z1q9PGMLKIFm",
        "outputId": "aee310b8-0406-46e8-9372-4b1e56700def"
      },
      "outputs": [
        {
          "output_type": "stream",
          "name": "stdout",
          "text": [
            "Epoch 1/50\n",
            "469/469 [==============================] - 150s 298ms/step - loss: 2.0916 - accuracy: 0.2461 - val_loss: 2.1125 - val_accuracy: 0.2248\n",
            "Epoch 2/50\n",
            "469/469 [==============================] - 127s 272ms/step - loss: 1.9643 - accuracy: 0.2787 - val_loss: 2.0491 - val_accuracy: 0.3139\n",
            "Epoch 3/50\n",
            "469/469 [==============================] - 126s 269ms/step - loss: 1.8175 - accuracy: 0.3525 - val_loss: 2.0852 - val_accuracy: 0.3247\n",
            "Epoch 4/50\n",
            "469/469 [==============================] - 126s 269ms/step - loss: 1.6306 - accuracy: 0.4326 - val_loss: 2.2607 - val_accuracy: 0.3179\n",
            " -- Model_Evaluation -- \n",
            "63/63 [==============================] - 1s 20ms/step - loss: 2.2150 - accuracy: 0.3262\n"
          ]
        }
      ],
      "source": [
        "his2 = model.fit(x_train, y_train, epochs=50, validation_data = (x_val, y_val), batch_size=64, callbacks=[stop_early]) #, sample_weight = sample_weights)\n",
        "\n",
        "print(' -- Model_Evaluation -- ')\n",
        "(model.evaluate(x_test, y_test))\n",
        "tf.keras.models.save_model(model, filepath = \"./basic_rnn.h5\")"
      ]
    },
    {
      "cell_type": "code",
      "execution_count": 31,
      "metadata": {
        "colab": {
          "base_uri": "https://localhost:8080/",
          "height": 802
        },
        "id": "Dzkr2AlZKKEu",
        "outputId": "dce04689-e7ed-417b-b26e-cf4e1cd497b6"
      },
      "outputs": [
        {
          "output_type": "display_data",
          "data": {
            "text/plain": [
              "<Figure size 1152x576 with 2 Axes>"
            ],
            "image/png": "[encoded data removed]"
          },
          "metadata": {}
        },
        {
          "output_type": "stream",
          "name": "stdout",
          "text": [
            "--Confusion_Matrix--\n",
            "[[  0   0   0   0   0   0   0   0   0   0   0   0   0]\n",
            " [  0   4   0   3   3   1   1   1   8   1   0   1   0]\n",
            " [  0   0   0   0   0   0   0   0   0   0   0   0   0]\n",
            " [ 16  10  16 201  70  25  35  27   3  85   0  34   0]\n",
            " [ 12  24  13 121  71  29  31  23  16  63   3  31   1]\n",
            " [  0   0   0   0   0   0   0   0   0   0   0   0   0]\n",
            " [  2   2   1  20   7   6 114   6   0  48   0   8   0]\n",
            " [  0   0   0   0   0   0   0   0   0   0   0   0   0]\n",
            " [  0   0   0   0   0   0   0   0   0   0   0   0   0]\n",
            " [  3  24  22 117  75  41 157  57   3 262   2  39   0]\n",
            " [  0   0   0   0   0   0   0   0   0   0   0   0   0]\n",
            " [  0   0   0   0   0   0   0   0   0   0   0   0   0]\n",
            " [  0   0   0   0   0   0   0   0   0   0   0   0   0]]\n",
            "f1_score:  0.3261630815407704\n",
            "Pr.:  0.3261630815407704\n",
            "Re.:  0.3261630815407704\n"
          ]
        }
      ],
      "source": [
        "\n",
        "\n",
        "his_2 = his2.history\n",
        "\n",
        "fig, axs = plt.subplots(1,2, figsize=(16,8))\n",
        "\n",
        "axs[0].set_title('Loss_Curve')\n",
        "ep = range(len(his_2['loss']))\n",
        "axs[0].plot(ep, his_2['loss'],'o--r',label = 'Training_loss')\n",
        "axs[0].plot(ep, his_2['val_loss'],'o--b',label = 'Val_loss')\n",
        "axs[0].set_xlabel('epoch')\n",
        "axs[0].set_ylabel('Loss')\n",
        "axs[0].legend()\n",
        "\n",
        "axs[1].set_title('Acc_Curve')\n",
        "ep = range(len(his_2['loss']))\n",
        "axs[1].plot(ep, his_2['accuracy'],'o--r',label = 'Training_acc')\n",
        "axs[1].plot(ep, his_2['val_accuracy'],'o--b',label = 'Val_acc')\n",
        "axs[1].set_xlabel('epoch')\n",
        "axs[1].set_ylabel('Accuracy')\n",
        "axs[1].legend()\n",
        "\n",
        "plt.show()\n",
        "\n",
        "\n",
        "ypred = model.predict(x_test)\n",
        "ypred = np.argmax(ypred, axis=-1)\n",
        "conf_matrix  = confusion_matrix(ypred, y_test)\n",
        "\n",
        "print('--Confusion_Matrix--')\n",
        "\n",
        "print(conf_matrix)\n",
        "\n",
        "print('f1_score: ',f1_score(y_test, ypred, average='micro'))\n",
        "print('Pr.: ',precision_score(y_test, ypred, average='micro'))\n",
        "print('Re.: ',recall_score(y_test, ypred, average='micro'))"
      ]
    },
    {
      "cell_type": "code",
      "execution_count": 32,
      "metadata": {
        "colab": {
          "base_uri": "https://localhost:8080/"
        },
        "id": "Fg98oYvjKMFz",
        "outputId": "44757320-19ca-4f6c-aa9f-74e1a734cb4f"
      },
      "outputs": [
        {
          "output_type": "stream",
          "name": "stdout",
          "text": [
            "****************************************************************************************************\n",
            "Input_Sentence:   tidied whole flat b today heading german bakery breakfast followed walk park                  \n",
            "----------------------------------------\n",
            "Actual_emotion:  relief\n",
            "----------------------------------------\n",
            "Predicted_emotion:  neutral\n",
            "****************************************************************************************************\n",
            "\n",
            "****************************************************************************************************\n",
            "Input_Sentence:   listening dead ocean actually listened twice row short                      \n",
            "----------------------------------------\n",
            "Actual_emotion:  worry\n",
            "----------------------------------------\n",
            "Predicted_emotion:  neutral\n",
            "****************************************************************************************************\n",
            "\n",
            "****************************************************************************************************\n",
            "Input_Sentence:   thanks making laugh                           \n",
            "----------------------------------------\n",
            "Actual_emotion:  happiness\n",
            "----------------------------------------\n",
            "Predicted_emotion:  happiness\n",
            "****************************************************************************************************\n",
            "\n",
            "****************************************************************************************************\n",
            "Input_Sentence:   sunday going meet mom breakfast beach                        \n",
            "----------------------------------------\n",
            "Actual_emotion:  happiness\n",
            "----------------------------------------\n",
            "Predicted_emotion:  happiness\n",
            "****************************************************************************************************\n",
            "\n",
            "****************************************************************************************************\n",
            "Input_Sentence:   stupid silly                            \n",
            "----------------------------------------\n",
            "Actual_emotion:  worry\n",
            "----------------------------------------\n",
            "Predicted_emotion:  worry\n",
            "****************************************************************************************************\n",
            "\n"
          ]
        }
      ],
      "source": [
        "## inference\n",
        "index = {}\n",
        "for val, key in enumerate(word_index.keys()):\n",
        "    index[val+1] = key \n",
        "inv_word_index = index\n",
        "inv_word_index[0] = ''\n",
        "\n",
        "\n",
        "def reverser(inp):\n",
        "    st = ''\n",
        "    for i in inp:\n",
        "        st += ' ' + str(inv_word_index.get(i))\n",
        "    return st\n",
        "\n",
        "def predict():\n",
        "    seed = random.randint(0, x_test.shape[0])\n",
        "    x_seed = x_test[seed]\n",
        "    act = y_test[seed]\n",
        "    st = reverser(x_seed)\n",
        "    print('Input_Sentence: ', st)\n",
        "    print('--'*20)\n",
        "    print('Actual_emotion: ', inv_label_index.get(act))\n",
        "    pred = (np.argmax(model.predict(x_seed.reshape(1,-1)), axis=-1).tolist())\n",
        "    print('--'*20)\n",
        "    print('Predicted_emotion: ', inv_label_index.get(pred[-1]))\n",
        "\n",
        "for _ in range(5):\n",
        "    print('**'*50)\n",
        "    predict()\n",
        "    print('**'*50)\n",
        "    print()"
      ]
    },
    {
      "cell_type": "code",
      "execution_count": 33,
      "metadata": {
        "id": "Mm3-Q1sbLpVe"
      },
      "outputs": [],
      "source": [
        "#---------------------- Using our model to make predictions on democrat and republican tweets -------------------------------------\n"
      ]
    },
    {
      "cell_type": "code",
      "source": [
        "#------ APPROACH 1: Using RNNS ---------"
      ],
      "metadata": {
        "id": "krrR7U7vnmg0"
      },
      "execution_count": 34,
      "outputs": []
    },
    {
      "cell_type": "code",
      "source": [
        "democrat_list[:3]"
      ],
      "metadata": {
        "colab": {
          "base_uri": "https://localhost:8080/"
        },
        "id": "WRfrhn5XnRCS",
        "outputId": "a227e64b-a8b5-453a-99f6-c9c9283429fd"
      },
      "execution_count": 35,
      "outputs": [
        {
          "output_type": "execute_result",
          "data": {
            "text/plain": [
              "['today senate dems vote savetheinternet proud support similar netneutrality legislation house',\n",
              " 'winterhavensun winter resident alta vista teacher one several recognized repdarrensoto national teacher apprecia',\n",
              " 'nbclatino repdarrensoto noted hurricane maria left approximately billion damages congress allocated']"
            ]
          },
          "metadata": {},
          "execution_count": 35
        }
      ]
    },
    {
      "cell_type": "code",
      "source": [
        "#Convert into token vectors, and padd to standard length\n",
        "tok_text_dem = token_data.texts_to_sequences(democrat_list)\n",
        "tok_text_dem = tf.keras.preprocessing.sequence.pad_sequences(tok_text_dem, maxlen = max_inp_len, padding = 'post')\n",
        "\n"
      ],
      "metadata": {
        "id": "LLT_1QP2nTmT"
      },
      "execution_count": 36,
      "outputs": []
    },
    {
      "cell_type": "code",
      "source": [
        "#Making predictions for 5000 random samples\n",
        "from tqdm import tqdm\n",
        "dem_predictions=[]\n",
        "def predict_dem():\n",
        "    \n",
        "    for _ in tqdm(range(5000)):\n",
        "      seed = random.randint(0, len(tok_text_dem)-1)\n",
        "      x_seed = tok_text_dem[seed]      \n",
        "      st = reverser(x_seed)\n",
        "      pred = (np.argmax(model.predict(x_seed.reshape(1,-1)), axis=-1).tolist())\n",
        "      dem_predictions.append(inv_label_index.get(pred[-1]))\n",
        "\n",
        "predict_dem()\n",
        "\n",
        "len(dem_predictions)\n",
        "\n",
        "np.unique(dem_predictions, return_counts= True)"
      ],
      "metadata": {
        "colab": {
          "base_uri": "https://localhost:8080/"
        },
        "id": "sAeHWG2Rnd_N",
        "outputId": "c7d17229-8de3-4b16-aea3-d4870907e27f"
      },
      "execution_count": 37,
      "outputs": [
        {
          "output_type": "stream",
          "name": "stderr",
          "text": [
            "100%|██████████| 5000/5000 [05:36<00:00, 14.85it/s]\n"
          ]
        },
        {
          "output_type": "execute_result",
          "data": {
            "text/plain": [
              "(array(['happiness', 'love', 'neutral', 'sadness', 'worry'], dtype='<U9'),\n",
              " array([1101,   78, 1513,  171, 2137]))"
            ]
          },
          "metadata": {},
          "execution_count": 37
        }
      ]
    },
    {
      "cell_type": "code",
      "execution_count": 38,
      "metadata": {
        "id": "WzZvWYh6KQK0",
        "colab": {
          "base_uri": "https://localhost:8080/"
        },
        "outputId": "1d7a8487-7aed-431d-d158-a36da19a928f"
      },
      "outputs": [
        {
          "output_type": "stream",
          "name": "stderr",
          "text": [
            "100%|██████████| 5000/5000 [05:14<00:00, 15.89it/s]\n"
          ]
        },
        {
          "output_type": "execute_result",
          "data": {
            "text/plain": [
              "(array(['happiness', 'love', 'neutral', 'sadness', 'surprise', 'worry'],\n",
              "       dtype='<U9'), array([1299,   92, 1607,  123,    1, 1878]))"
            ]
          },
          "metadata": {},
          "execution_count": 38
        }
      ],
      "source": [
        "#------------ REPUB --------------\n",
        "#Making predictions for 5000 random republicans\n",
        "tok_text_rep = token_data.texts_to_sequences(republican_list)\n",
        "tok_text_rep = tf.keras.preprocessing.sequence.pad_sequences(tok_text_rep, maxlen = max_inp_len, padding = 'post')\n",
        "\n",
        "from tqdm import tqdm\n",
        "rep_predictions=[]\n",
        "def predict_repub():\n",
        "    \n",
        "    for _ in tqdm(range(5000)):\n",
        "      seed = random.randint(0, len(tok_text_rep)-1)      \n",
        "      x_seed = tok_text_rep[seed]      \n",
        "      st = reverser(x_seed)\n",
        "      pred = (np.argmax(model.predict(x_seed.reshape(1,-1)), axis=-1).tolist())\n",
        "      rep_predictions.append(inv_label_index.get(pred[-1]))\n",
        "\n",
        "predict_repub()\n",
        "\n",
        "np.unique(rep_predictions, return_counts=True)\n"
      ]
    },
    {
      "cell_type": "code",
      "source": [
        "#------------------------- Plotting Results -----------------------------"
      ],
      "metadata": {
        "id": "j9ycetD_5Hcl"
      },
      "execution_count": 44,
      "outputs": []
    },
    {
      "cell_type": "code",
      "source": [
        ""
      ],
      "metadata": {
        "id": "ZWBtp9ZV7Icx"
      },
      "execution_count": 46,
      "outputs": []
    },
    {
      "cell_type": "code",
      "source": [
        ""
      ],
      "metadata": {
        "id": "RLxfW9je-XMD"
      },
      "execution_count": 62,
      "outputs": []
    },
    {
      "cell_type": "code",
      "source": [
        "print(dem_counts)\n",
        "print(rep_counts)\n",
        "dem_counts = list(np.unique(dem_predictions, return_counts= True)[1])\n",
        "rep_counts = list(np.unique(rep_predictions, return_counts= True)[1])\n",
        "rl = sorted(list(np.unique(rep_predictions, return_counts= True)[0]))\n",
        "dl = sorted(list(np.unique(dem_predictions, return_counts= True)[0]))\n",
        "\n",
        "labels=[]\n",
        "dem_counts_graph=[]\n",
        "rep_counts_graph=[]\n",
        "dem = dict(zip(sorted(list(np.unique(dem_predictions, return_counts= True)[0])),list(np.unique(dem_predictions, return_counts= True)[1])))\n",
        "rep = dict(zip(sorted(list(np.unique(rep_predictions, return_counts= True)[0])), list(np.unique(rep_predictions, return_counts= True)[1])))\n",
        "\n",
        "\n",
        "for item in rl:\n",
        "  if item in dl and item not in labels:\n",
        "    labels.append(item)\n",
        "    dem_counts_graph.append(dem[item])\n",
        "    rep_counts_graph.append(rep[item])\n",
        "\n",
        "  elif item not in dl and item not in labels:\n",
        "    labels.append(item)\n",
        "    rep_counts_graph.append(rep[item])\n",
        "    dem_counts_graph.append(0)\n",
        "\n",
        "\n",
        "for item in dl:\n",
        "  if item in rl and item not in labels:\n",
        "    labels.append(item)\n",
        "    dem_counts_graph.append(dem[item])\n",
        "    rep_counts_graph.append(rep[item])\n",
        "\n",
        "  elif item not in rl and item not in labels:\n",
        "    labels.append(item)\n",
        "    rep_counts_graph.append(0)\n",
        "    dem_counts_graph.append(dem[item])\n",
        "\n",
        "\n",
        "print(labels)\n",
        "print(dem_counts_graph)\n",
        "print(rep_counts_graph)"
      ],
      "metadata": {
        "id": "KeTFiCgd7bu5",
        "outputId": "e746ae4e-1508-4844-cc77-faab770c5bce",
        "colab": {
          "base_uri": "https://localhost:8080/"
        }
      },
      "execution_count": 63,
      "outputs": [
        {
          "output_type": "stream",
          "name": "stdout",
          "text": [
            "[1101, 78, 1513, 171, 2137]\n",
            "[1299, 92, 1607, 123, 1, 1878]\n",
            "['happiness', 'love', 'neutral', 'sadness', 'surprise', 'worry']\n",
            "[1101, 78, 1513, 171, 0, 2137]\n",
            "[1299, 92, 1607, 123, 1, 1878]\n"
          ]
        }
      ]
    },
    {
      "cell_type": "code",
      "execution_count": 64,
      "metadata": {
        "id": "-qereFPeKZAw",
        "colab": {
          "base_uri": "https://localhost:8080/",
          "height": 297
        },
        "outputId": "17551efe-6ef7-4da3-f66a-7239a24b3d99"
      },
      "outputs": [
        {
          "output_type": "display_data",
          "data": {
            "text/plain": [
              "<Figure size 432x288 with 1 Axes>"
            ],
            "image/png": "[encoded data removed]"
          },
          "metadata": {}
        }
      ],
      "source": [
        "import matplotlib.pyplot as plt\n",
        "import numpy as np\n",
        "\n",
        "\n",
        "x = np.arange(len(labels))  # the label locations\n",
        "width = 0.35  # the width of the bars\n",
        "\n",
        "fig, ax = plt.subplots()\n",
        "rects1 = ax.bar(x - width/2, dem_counts_graph, width, label='Democrats')\n",
        "rects2 = ax.bar(x + width/2, rep_counts_graph, width, label='Republicans')\n",
        "\n",
        "# Add some text for labels, title and custom x-axis tick labels, etc.\n",
        "ax.set_ylabel('Counts')\n",
        "ax.set_title('Scores by Political Party RNN Model')\n",
        "ax.set_xticks(x)\n",
        "ax.set_xticklabels(labels)\n",
        "ax.legend()\n",
        "\n",
        "fig.tight_layout()\n",
        "\n",
        "plt.show()"
      ]
    },
    {
      "cell_type": "code",
      "execution_count": null,
      "metadata": {
        "id": "dCTkfzJCM0yQ"
      },
      "outputs": [],
      "source": [
        "# ------------------------- Modeling the data with T5 trained on emotions ----------------------------------"
      ]
    },
    {
      "cell_type": "code",
      "execution_count": 56,
      "metadata": {
        "colab": {
          "base_uri": "https://localhost:8080/"
        },
        "id": "5exqQDVaKbBc",
        "outputId": "f9205c17-0187-486b-989c-4ab0bfc9416c"
      },
      "outputs": [
        {
          "output_type": "stream",
          "name": "stdout",
          "text": [
            "Collecting transformers\n",
            "  Downloading transformers-4.18.0-py3-none-any.whl (4.0 MB)\n",
            "\u001b[K     |████████████████████████████████| 4.0 MB 5.2 MB/s \n",
            "\u001b[?25hRequirement already satisfied: regex!=2019.12.17 in /root/.local/lib/python3.7/site-packages (from transformers) (2022.4.24)\n",
            "Collecting huggingface-hub<1.0,>=0.1.0\n",
            "  Downloading huggingface_hub-0.6.0-py3-none-any.whl (84 kB)\n",
            "\u001b[K     |████████████████████████████████| 84 kB 2.5 MB/s \n",
            "\u001b[?25hRequirement already satisfied: packaging>=20.0 in /usr/local/lib/python3.7/dist-packages (from transformers) (21.3)\n",
            "Requirement already satisfied: numpy>=1.17 in /usr/local/lib/python3.7/dist-packages (from transformers) (1.21.6)\n",
            "Requirement already satisfied: tqdm>=4.27 in /usr/local/lib/python3.7/dist-packages (from transformers) (4.64.0)\n",
            "Collecting pyyaml>=5.1\n",
            "  Downloading PyYAML-6.0-cp37-cp37m-manylinux_2_5_x86_64.manylinux1_x86_64.manylinux_2_12_x86_64.manylinux2010_x86_64.whl (596 kB)\n",
            "\u001b[K     |████████████████████████████████| 596 kB 60.5 MB/s \n",
            "\u001b[?25hRequirement already satisfied: requests in /usr/local/lib/python3.7/dist-packages (from transformers) (2.23.0)\n",
            "Requirement already satisfied: importlib-metadata in /usr/local/lib/python3.7/dist-packages (from transformers) (4.11.3)\n",
            "Requirement already satisfied: filelock in /usr/local/lib/python3.7/dist-packages (from transformers) (3.6.0)\n",
            "Collecting sacremoses\n",
            "  Downloading sacremoses-0.0.53.tar.gz (880 kB)\n",
            "\u001b[K     |████████████████████████████████| 880 kB 47.2 MB/s \n",
            "\u001b[?25hCollecting tokenizers!=0.11.3,<0.13,>=0.11.1\n",
            "  Downloading tokenizers-0.12.1-cp37-cp37m-manylinux_2_12_x86_64.manylinux2010_x86_64.whl (6.6 MB)\n",
            "\u001b[K     |████████████████████████████████| 6.6 MB 27.6 MB/s \n",
            "\u001b[?25hRequirement already satisfied: typing-extensions>=3.7.4.3 in /usr/local/lib/python3.7/dist-packages (from huggingface-hub<1.0,>=0.1.0->transformers) (4.2.0)\n",
            "Requirement already satisfied: pyparsing!=3.0.5,>=2.0.2 in /usr/local/lib/python3.7/dist-packages (from packaging>=20.0->transformers) (3.0.8)\n",
            "Requirement already satisfied: zipp>=0.5 in /usr/local/lib/python3.7/dist-packages (from importlib-metadata->transformers) (3.8.0)\n",
            "Requirement already satisfied: idna<3,>=2.5 in /usr/local/lib/python3.7/dist-packages (from requests->transformers) (2.10)\n",
            "Requirement already satisfied: certifi>=2017.4.17 in /usr/local/lib/python3.7/dist-packages (from requests->transformers) (2021.10.8)\n",
            "Requirement already satisfied: chardet<4,>=3.0.2 in /usr/local/lib/python3.7/dist-packages (from requests->transformers) (3.0.4)\n",
            "Requirement already satisfied: urllib3!=1.25.0,!=1.25.1,<1.26,>=1.21.1 in /usr/local/lib/python3.7/dist-packages (from requests->transformers) (1.24.3)\n",
            "Requirement already satisfied: six in /usr/local/lib/python3.7/dist-packages (from sacremoses->transformers) (1.15.0)\n",
            "Requirement already satisfied: click in /usr/local/lib/python3.7/dist-packages (from sacremoses->transformers) (7.1.2)\n",
            "Requirement already satisfied: joblib in /usr/local/lib/python3.7/dist-packages (from sacremoses->transformers) (1.1.0)\n",
            "Building wheels for collected packages: sacremoses\n",
            "  Building wheel for sacremoses (setup.py) ... \u001b[?25l\u001b[?25hdone\n",
            "  Created wheel for sacremoses: filename=sacremoses-0.0.53-py3-none-any.whl size=895260 sha256=2d22ad8995521159b30db1b869e3e5ef91f1ae0ab4e3426fe0637524be000646\n",
            "  Stored in directory: /root/.cache/pip/wheels/87/39/dd/a83eeef36d0bf98e7a4d1933a4ad2d660295a40613079bafc9\n",
            "Successfully built sacremoses\n",
            "Installing collected packages: pyyaml, tokenizers, sacremoses, huggingface-hub, transformers\n",
            "  Attempting uninstall: pyyaml\n",
            "    Found existing installation: PyYAML 3.13\n",
            "    Uninstalling PyYAML-3.13:\n",
            "      Successfully uninstalled PyYAML-3.13\n",
            "Successfully installed huggingface-hub-0.6.0 pyyaml-6.0 sacremoses-0.0.53 tokenizers-0.12.1 transformers-4.18.0\n",
            "Collecting sentencepiece\n",
            "  Downloading sentencepiece-0.1.96-cp37-cp37m-manylinux_2_17_x86_64.manylinux2014_x86_64.whl (1.2 MB)\n",
            "\u001b[K     |████████████████████████████████| 1.2 MB 5.2 MB/s \n",
            "\u001b[?25hInstalling collected packages: sentencepiece\n",
            "Successfully installed sentencepiece-0.1.96\n"
          ]
        }
      ],
      "source": [
        "!pip install transformers\n",
        "!pip install sentencepiece"
      ]
    },
    {
      "cell_type": "code",
      "execution_count": 57,
      "metadata": {
        "colab": {
          "base_uri": "https://localhost:8080/",
          "height": 197,
          "referenced_widgets": [
            "bd6c7f0a380349adbe8934ce50eaadc2",
            "3543f37a13bc4b78bea7bc70e6f15842",
            "fa742cb8401545e5be4e176e78c7f710",
            "7a5c68c721eb4dc897d9fdd72408999c",
            "1989be46057d4a10a88783da2d0bde3a",
            "5d828b03ce0a42a684aa631def2c3208",
            "e6ec1a49c35c4bd3839dac956fb5c720",
            "db2c7e6303b44f73af14c8996573d921",
            "a439f9a5a22b483a883556832d880c7f",
            "16fdea5aab004a03adde7ad4e66dbd07",
            "c5957a63d2f047baacabd398c1fe401d",
            "c262f98b30e244dbbc44cce2557fa264",
            "b3b5429fe96f45649affeba295420575",
            "3936265797b349079a35bcfe0b99520c",
            "3e3bbae419a3455e9b8f6f60d7c328d1",
            "ece2534fe23941eda30809e426e83dc6",
            "e72869e8d18249f7bf80efd2e0faa1f8",
            "64a0f4f063374a53b118253e2c44a749",
            "64459689f82343df8336a02e488b5c19",
            "6d4bcafdfd9e484bbb71d502f4678a21",
            "89319dbf0ec24f7aae8df08987c5a8ff",
            "dcf4e83d7fcc4f8fa4dc1dc0ad9bb328",
            "fb3e7a7e2a9d4a31984303ccd874288e",
            "07a1b832364842d3b19c0dc76e2ab067",
            "a47bfedb75c5483bb53a9cc9c207dbfe",
            "7e96d07501c541c8b09e2801089c5784",
            "aaef30bf598440b59e7b26acc7e54287",
            "011de06522164b8ea5e96f1c731b044e",
            "7b71f26c98b24246970404c033b5e496",
            "734c770f96074f52bf4b5e8c57c61ab7",
            "2627935687da4bb9b128e5c73318c2f0",
            "1cc0744bc24649b88d23e32c1f404400",
            "d0ba3542ff034575b0ba90da7b5b7981",
            "34ff88b9aa2a476f96283ccd5e6a75ec",
            "6395d9b7551246afa370f81f791766d7",
            "07d2a252251d49c0a010bb73764d0b66",
            "abe38eda4e4447a0a960873df896b604",
            "cc655204e6894914b00e4bccd374ea57",
            "5f7c8daaa1304f13a6aba078d5842358",
            "5c4c6149e81a4e0ebb221de144ec0c3e",
            "6416e8c806184d289c202d0ab879a5e3",
            "a6fedf71d72446959380e99fbc809137",
            "918f051520ec468993e5ca8f7e021556",
            "467912241b6f40738f93649ee0106eff",
            "cc30c5ad88a745a9bc0f71145d9a361b",
            "90f6e4c5cfcd471db1d16d8abf8362a7",
            "5799ba3c78cf4a4a87484e1ecbe85ca5",
            "4fce57b87a3340699581a10deb4cf2f4",
            "ade39ae91520492caa6e4ab16c0d2efa",
            "9e154faf77fa4132b9ac470415225916",
            "241613f9fb2c4a389a68d459f4e9bbc2",
            "5d37b861f5e94792a5eb4e312a9182d1",
            "36d441bf983a4cf7a92505c474219921",
            "58b465d238c245bf8b2c643d0cf01860",
            "0fa1f45373434bd6824525e80b1ff5ab"
          ]
        },
        "id": "OnlW9QsjKdRV",
        "outputId": "8f3c0fab-8091-4084-b9e8-08bd2bccef02"
      },
      "outputs": [
        {
          "output_type": "display_data",
          "data": {
            "text/plain": [
              "Downloading:   0%|          | 0.00/25.0 [00:00<?, ?B/s]"
            ],
            "application/vnd.jupyter.widget-view+json": {
              "version_major": 2,
              "version_minor": 0,
              "model_id": "bd6c7f0a380349adbe8934ce50eaadc2"
            }
          },
          "metadata": {}
        },
        {
          "output_type": "display_data",
          "data": {
            "text/plain": [
              "Downloading:   0%|          | 0.00/1.18k [00:00<?, ?B/s]"
            ],
            "application/vnd.jupyter.widget-view+json": {
              "version_major": 2,
              "version_minor": 0,
              "model_id": "c262f98b30e244dbbc44cce2557fa264"
            }
          },
          "metadata": {}
        },
        {
          "output_type": "display_data",
          "data": {
            "text/plain": [
              "Downloading:   0%|          | 0.00/773k [00:00<?, ?B/s]"
            ],
            "application/vnd.jupyter.widget-view+json": {
              "version_major": 2,
              "version_minor": 0,
              "model_id": "fb3e7a7e2a9d4a31984303ccd874288e"
            }
          },
          "metadata": {}
        },
        {
          "output_type": "display_data",
          "data": {
            "text/plain": [
              "Downloading:   0%|          | 0.00/1.74k [00:00<?, ?B/s]"
            ],
            "application/vnd.jupyter.widget-view+json": {
              "version_major": 2,
              "version_minor": 0,
              "model_id": "34ff88b9aa2a476f96283ccd5e6a75ec"
            }
          },
          "metadata": {}
        },
        {
          "output_type": "display_data",
          "data": {
            "text/plain": [
              "Downloading:   0%|          | 0.00/850M [00:00<?, ?B/s]"
            ],
            "application/vnd.jupyter.widget-view+json": {
              "version_major": 2,
              "version_minor": 0,
              "model_id": "cc30c5ad88a745a9bc0f71145d9a361b"
            }
          },
          "metadata": {}
        },
        {
          "output_type": "execute_result",
          "data": {
            "text/plain": [
              "'<pad> joy'"
            ],
            "application/vnd.google.colaboratory.intrinsic+json": {
              "type": "string"
            }
          },
          "metadata": {},
          "execution_count": 57
        }
      ],
      "source": [
        "from transformers import AutoTokenizer, AutoModelWithLMHead\n",
        "\n",
        "tokenizer = AutoTokenizer.from_pretrained(\"mrm8488/t5-base-finetuned-emotion\")\n",
        "\n",
        "model = AutoModelWithLMHead.from_pretrained(\"mrm8488/t5-base-finetuned-emotion\")\n",
        "\n",
        "def get_emotion(text):\n",
        "  input_ids = tokenizer.encode(text + '</s>', return_tensors='pt')\n",
        "\n",
        "  output = model.generate(input_ids=input_ids,\n",
        "               max_length=2)\n",
        "  \n",
        "  dec = [tokenizer.decode(ids) for ids in output]\n",
        "  label = dec[0]\n",
        "  return label\n",
        "  \n",
        "get_emotion(\"i feel as if i havent blogged in ages are at least truly blogged i am doing an update cute\")"
      ]
    },
    {
      "cell_type": "code",
      "execution_count": 58,
      "metadata": {
        "id": "79X5QTHlK_I2"
      },
      "outputs": [],
      "source": [
        "democrat_T5_results =[]\n",
        "republican_T5_results = []\n"
      ]
    },
    {
      "cell_type": "code",
      "execution_count": 59,
      "metadata": {
        "id": "OSfW6yiCLmfi",
        "colab": {
          "base_uri": "https://localhost:8080/"
        },
        "outputId": "ec791e23-6c9e-4158-9eec-dd69ebf3bc11"
      },
      "outputs": [
        {
          "output_type": "stream",
          "name": "stderr",
          "text": [
            "100%|██████████| 5000/5000 [34:21<00:00,  2.43it/s]\n"
          ]
        }
      ],
      "source": [
        "for _ in tqdm(range(5000)):\n",
        "      seed1 = random.randint(0, len(democrat_list)-1)\n",
        "      seed2 = random.randint(0, len(republican_list)-1)\n",
        "      democrat_T5_results.append(get_emotion(democrat_list[seed1])[6:])\n",
        "      republican_T5_results.append(get_emotion(republican_list[seed2])[6:])\n",
        "\n"
      ]
    },
    {
      "cell_type": "code",
      "execution_count": null,
      "metadata": {
        "colab": {
          "base_uri": "https://localhost:8080/"
        },
        "id": "5SLY-9dIpBEL",
        "outputId": "78d66f39-20ce-49de-ea4a-ae784b38e76b"
      },
      "outputs": [
        {
          "output_type": "stream",
          "name": "stdout",
          "text": [
            "['anger' 'fear' 'joy' 'love' 'sadness' 'surprise']\n",
            "['anger' 'fear' 'joy' 'love' 'sadness' 'surprise']\n"
          ]
        }
      ],
      "source": [
        "dem_counts_T5 = list(np.unique(democrat_T5_results, return_counts= True)[1])\n",
        "print(np.unique(democrat_T5_results, return_counts= True)[0])\n",
        "rep_counts_T5 = list(np.unique(republican_T5_results, return_counts=True)[1])\n",
        "print(np.unique(republican_T5_results, return_counts= True)[0])"
      ]
    },
    {
      "cell_type": "code",
      "execution_count": null,
      "metadata": {
        "colab": {
          "base_uri": "https://localhost:8080/"
        },
        "id": "He8dBzA3Nq19",
        "outputId": "083f3d91-bf7b-42a7-b4a7-e9374be352c4"
      },
      "outputs": [
        {
          "output_type": "execute_result",
          "data": {
            "text/plain": [
              "[1554, 788, 2320, 32, 278, 28]"
            ]
          },
          "metadata": {},
          "execution_count": 88
        }
      ],
      "source": [
        "dem_counts_T5"
      ]
    },
    {
      "cell_type": "code",
      "execution_count": null,
      "metadata": {
        "colab": {
          "base_uri": "https://localhost:8080/"
        },
        "id": "nvXHQeMaN4vG",
        "outputId": "8561aea7-3378-468f-dfd9-b65dd173f87b"
      },
      "outputs": [
        {
          "output_type": "execute_result",
          "data": {
            "text/plain": [
              "[1222, 695, 2800, 24, 242, 17]"
            ]
          },
          "metadata": {},
          "execution_count": 89
        }
      ],
      "source": [
        "rep_counts_T5"
      ]
    },
    {
      "cell_type": "code",
      "execution_count": null,
      "metadata": {
        "colab": {
          "base_uri": "https://localhost:8080/",
          "height": 297
        },
        "id": "zQ5n-Y4eNsGx",
        "outputId": "2d0133fd-cfd1-4303-85a9-6465d6f866b2"
      },
      "outputs": [
        {
          "output_type": "display_data",
          "data": {
            "text/plain": [
              "<Figure size 432x288 with 1 Axes>"
            ],
            "image/png": "[encoded data removed]"
          },
          "metadata": {}
        }
      ],
      "source": [
        "labels = ['anger','fear' ,'joy' ,'love' ,'sadness' ,'surprise']\n",
        "x = np.arange(len(labels))  # the label locations\n",
        "width = 0.35  # the width of the bars\n",
        "\n",
        "fig, ax = plt.subplots()\n",
        "rects1 = ax.bar(x - width/2, dem_counts_T5, width, label='Democrats')\n",
        "rects2 = ax.bar(x + width/2, rep_counts_T5, width, label='Republicans')\n",
        "\n",
        "# Add some text for labels, title and custom x-axis tick labels, etc.\n",
        "ax.set_ylabel('Counts')\n",
        "ax.set_title('Scores by Political Party T5 Model')\n",
        "ax.set_xticks(x)\n",
        "ax.set_xticklabels(labels)\n",
        "ax.legend()\n",
        "\n",
        "#ax.bar_label(rects1, padding=3)\n",
        "#ax.bar_label(rects2, padding=3)\n",
        "\n",
        "fig.tight_layout()\n",
        "\n",
        "plt.show()"
      ]
    },
    {
      "cell_type": "code",
      "source": [
        ""
      ],
      "metadata": {
        "id": "XYjqptJqNqBV"
      },
      "execution_count": null,
      "outputs": []
    },
    {
      "cell_type": "code",
      "source": [
        ""
      ],
      "metadata": {
        "id": "Q3ymNuMHNq2Q"
      },
      "execution_count": null,
      "outputs": []
    },
    {
      "cell_type": "code",
      "source": [
        ""
      ],
      "metadata": {
        "id": "iiGJem1CNrM6"
      },
      "execution_count": null,
      "outputs": []
    },
    {
      "cell_type": "code",
      "source": [
        ""
      ],
      "metadata": {
        "id": "2MNln2lCNriL"
      },
      "execution_count": null,
      "outputs": []
    }
  ],
  "metadata": {
    "colab": {
      "name": "TextAsData.ipynb",
      "provenance": []
    },
    "kernelspec": {
      "display_name": "Python 3",
      "name": "python3"
    },
    "language_info": {
      "name": "python"
    },
    "widgets": {
      "application/vnd.jupyter.widget-state+json": {
        "bd6c7f0a380349adbe8934ce50eaadc2": {
          "model_module": "@jupyter-widgets/controls",
          "model_name": "HBoxModel",
          "model_module_version": "1.5.0",
          "state": {
            "_dom_classes": [],
            "_model_module": "@jupyter-widgets/controls",
            "_model_module_version": "1.5.0",
            "_model_name": "HBoxModel",
            "_view_count": null,
            "_view_module": "@jupyter-widgets/controls",
            "_view_module_version": "1.5.0",
            "_view_name": "HBoxView",
            "box_style": "",
            "children": [
              "IPY_MODEL_3543f37a13bc4b78bea7bc70e6f15842",
              "IPY_MODEL_fa742cb8401545e5be4e176e78c7f710",
              "IPY_MODEL_7a5c68c721eb4dc897d9fdd72408999c"
            ],
            "layout": "IPY_MODEL_1989be46057d4a10a88783da2d0bde3a"
          }
        },
        "3543f37a13bc4b78bea7bc70e6f15842": {
          "model_module": "@jupyter-widgets/controls",
          "model_name": "HTMLModel",
          "model_module_version": "1.5.0",
          "state": {
            "_dom_classes": [],
            "_model_module": "@jupyter-widgets/controls",
            "_model_module_version": "1.5.0",
            "_model_name": "HTMLModel",
            "_view_count": null,
            "_view_module": "@jupyter-widgets/controls",
            "_view_module_version": "1.5.0",
            "_view_name": "HTMLView",
            "description": "",
            "description_tooltip": null,
            "layout": "IPY_MODEL_5d828b03ce0a42a684aa631def2c3208",
            "placeholder": "​",
            "style": "IPY_MODEL_e6ec1a49c35c4bd3839dac956fb5c720",
            "value": "Downloading: 100%"
          }
        },
        "fa742cb8401545e5be4e176e78c7f710": {
          "model_module": "@jupyter-widgets/controls",
          "model_name": "FloatProgressModel",
          "model_module_version": "1.5.0",
          "state": {
            "_dom_classes": [],
            "_model_module": "@jupyter-widgets/controls",
            "_model_module_version": "1.5.0",
            "_model_name": "FloatProgressModel",
            "_view_count": null,
            "_view_module": "@jupyter-widgets/controls",
            "_view_module_version": "1.5.0",
            "_view_name": "ProgressView",
            "bar_style": "success",
            "description": "",
            "description_tooltip": null,
            "layout": "IPY_MODEL_db2c7e6303b44f73af14c8996573d921",
            "max": 25,
            "min": 0,
            "orientation": "horizontal",
            "style": "IPY_MODEL_a439f9a5a22b483a883556832d880c7f",
            "value": 25
          }
        },
        "7a5c68c721eb4dc897d9fdd72408999c": {
          "model_module": "@jupyter-widgets/controls",
          "model_name": "HTMLModel",
          "model_module_version": "1.5.0",
          "state": {
            "_dom_classes": [],
            "_model_module": "@jupyter-widgets/controls",
            "_model_module_version": "1.5.0",
            "_model_name": "HTMLModel",
            "_view_count": null,
            "_view_module": "@jupyter-widgets/controls",
            "_view_module_version": "1.5.0",
            "_view_name": "HTMLView",
            "description": "",
            "description_tooltip": null,
            "layout": "IPY_MODEL_16fdea5aab004a03adde7ad4e66dbd07",
            "placeholder": "​",
            "style": "IPY_MODEL_c5957a63d2f047baacabd398c1fe401d",
            "value": " 25.0/25.0 [00:00&lt;00:00, 214B/s]"
          }
        },
        "1989be46057d4a10a88783da2d0bde3a": {
          "model_module": "@jupyter-widgets/base",
          "model_name": "LayoutModel",
          "model_module_version": "1.2.0",
          "state": {
            "_model_module": "@jupyter-widgets/base",
            "_model_module_version": "1.2.0",
            "_model_name": "LayoutModel",
            "_view_count": null,
            "_view_module": "@jupyter-widgets/base",
            "_view_module_version": "1.2.0",
            "_view_name": "LayoutView",
            "align_content": null,
            "align_items": null,
            "align_self": null,
            "border": null,
            "bottom": null,
            "display": null,
            "flex": null,
            "flex_flow": null,
            "grid_area": null,
            "grid_auto_columns": null,
            "grid_auto_flow": null,
            "grid_auto_rows": null,
            "grid_column": null,
            "grid_gap": null,
            "grid_row": null,
            "grid_template_areas": null,
            "grid_template_columns": null,
            "grid_template_rows": null,
            "height": null,
            "justify_content": null,
            "justify_items": null,
            "left": null,
            "margin": null,
            "max_height": null,
            "max_width": null,
            "min_height": null,
            "min_width": null,
            "object_fit": null,
            "object_position": null,
            "order": null,
            "overflow": null,
            "overflow_x": null,
            "overflow_y": null,
            "padding": null,
            "right": null,
            "top": null,
            "visibility": null,
            "width": null
          }
        },
        "5d828b03ce0a42a684aa631def2c3208": {
          "model_module": "@jupyter-widgets/base",
          "model_name": "LayoutModel",
          "model_module_version": "1.2.0",
          "state": {
            "_model_module": "@jupyter-widgets/base",
            "_model_module_version": "1.2.0",
            "_model_name": "LayoutModel",
            "_view_count": null,
            "_view_module": "@jupyter-widgets/base",
            "_view_module_version": "1.2.0",
            "_view_name": "LayoutView",
            "align_content": null,
            "align_items": null,
            "align_self": null,
            "border": null,
            "bottom": null,
            "display": null,
            "flex": null,
            "flex_flow": null,
            "grid_area": null,
            "grid_auto_columns": null,
            "grid_auto_flow": null,
            "grid_auto_rows": null,
            "grid_column": null,
            "grid_gap": null,
            "grid_row": null,
            "grid_template_areas": null,
            "grid_template_columns": null,
            "grid_template_rows": null,
            "height": null,
            "justify_content": null,
            "justify_items": null,
            "left": null,
            "margin": null,
            "max_height": null,
            "max_width": null,
            "min_height": null,
            "min_width": null,
            "object_fit": null,
            "object_position": null,
            "order": null,
            "overflow": null,
            "overflow_x": null,
            "overflow_y": null,
            "padding": null,
            "right": null,
            "top": null,
            "visibility": null,
            "width": null
          }
        },
        "e6ec1a49c35c4bd3839dac956fb5c720": {
          "model_module": "@jupyter-widgets/controls",
          "model_name": "DescriptionStyleModel",
          "model_module_version": "1.5.0",
          "state": {
            "_model_module": "@jupyter-widgets/controls",
            "_model_module_version": "1.5.0",
            "_model_name": "DescriptionStyleModel",
            "_view_count": null,
            "_view_module": "@jupyter-widgets/base",
            "_view_module_version": "1.2.0",
            "_view_name": "StyleView",
            "description_width": ""
          }
        },
        "db2c7e6303b44f73af14c8996573d921": {
          "model_module": "@jupyter-widgets/base",
          "model_name": "LayoutModel",
          "model_module_version": "1.2.0",
          "state": {
            "_model_module": "@jupyter-widgets/base",
            "_model_module_version": "1.2.0",
            "_model_name": "LayoutModel",
            "_view_count": null,
            "_view_module": "@jupyter-widgets/base",
            "_view_module_version": "1.2.0",
            "_view_name": "LayoutView",
            "align_content": null,
            "align_items": null,
            "align_self": null,
            "border": null,
            "bottom": null,
            "display": null,
            "flex": null,
            "flex_flow": null,
            "grid_area": null,
            "grid_auto_columns": null,
            "grid_auto_flow": null,
            "grid_auto_rows": null,
            "grid_column": null,
            "grid_gap": null,
            "grid_row": null,
            "grid_template_areas": null,
            "grid_template_columns": null,
            "grid_template_rows": null,
            "height": null,
            "justify_content": null,
            "justify_items": null,
            "left": null,
            "margin": null,
            "max_height": null,
            "max_width": null,
            "min_height": null,
            "min_width": null,
            "object_fit": null,
            "object_position": null,
            "order": null,
            "overflow": null,
            "overflow_x": null,
            "overflow_y": null,
            "padding": null,
            "right": null,
            "top": null,
            "visibility": null,
            "width": null
          }
        },
        "a439f9a5a22b483a883556832d880c7f": {
          "model_module": "@jupyter-widgets/controls",
          "model_name": "ProgressStyleModel",
          "model_module_version": "1.5.0",
          "state": {
            "_model_module": "@jupyter-widgets/controls",
            "_model_module_version": "1.5.0",
            "_model_name": "ProgressStyleModel",
            "_view_count": null,
            "_view_module": "@jupyter-widgets/base",
            "_view_module_version": "1.2.0",
            "_view_name": "StyleView",
            "bar_color": null,
            "description_width": ""
          }
        },
        "16fdea5aab004a03adde7ad4e66dbd07": {
          "model_module": "@jupyter-widgets/base",
          "model_name": "LayoutModel",
          "model_module_version": "1.2.0",
          "state": {
            "_model_module": "@jupyter-widgets/base",
            "_model_module_version": "1.2.0",
            "_model_name": "LayoutModel",
            "_view_count": null,
            "_view_module": "@jupyter-widgets/base",
            "_view_module_version": "1.2.0",
            "_view_name": "LayoutView",
            "align_content": null,
            "align_items": null,
            "align_self": null,
            "border": null,
            "bottom": null,
            "display": null,
            "flex": null,
            "flex_flow": null,
            "grid_area": null,
            "grid_auto_columns": null,
            "grid_auto_flow": null,
            "grid_auto_rows": null,
            "grid_column": null,
            "grid_gap": null,
            "grid_row": null,
            "grid_template_areas": null,
            "grid_template_columns": null,
            "grid_template_rows": null,
            "height": null,
            "justify_content": null,
            "justify_items": null,
            "left": null,
            "margin": null,
            "max_height": null,
            "max_width": null,
            "min_height": null,
            "min_width": null,
            "object_fit": null,
            "object_position": null,
            "order": null,
            "overflow": null,
            "overflow_x": null,
            "overflow_y": null,
            "padding": null,
            "right": null,
            "top": null,
            "visibility": null,
            "width": null
          }
        },
        "c5957a63d2f047baacabd398c1fe401d": {
          "model_module": "@jupyter-widgets/controls",
          "model_name": "DescriptionStyleModel",
          "model_module_version": "1.5.0",
          "state": {
            "_model_module": "@jupyter-widgets/controls",
            "_model_module_version": "1.5.0",
            "_model_name": "DescriptionStyleModel",
            "_view_count": null,
            "_view_module": "@jupyter-widgets/base",
            "_view_module_version": "1.2.0",
            "_view_name": "StyleView",
            "description_width": ""
          }
        },
        "c262f98b30e244dbbc44cce2557fa264": {
          "model_module": "@jupyter-widgets/controls",
          "model_name": "HBoxModel",
          "model_module_version": "1.5.0",
          "state": {
            "_dom_classes": [],
            "_model_module": "@jupyter-widgets/controls",
            "_model_module_version": "1.5.0",
            "_model_name": "HBoxModel",
            "_view_count": null,
            "_view_module": "@jupyter-widgets/controls",
            "_view_module_version": "1.5.0",
            "_view_name": "HBoxView",
            "box_style": "",
            "children": [
              "IPY_MODEL_b3b5429fe96f45649affeba295420575",
              "IPY_MODEL_3936265797b349079a35bcfe0b99520c",
              "IPY_MODEL_3e3bbae419a3455e9b8f6f60d7c328d1"
            ],
            "layout": "IPY_MODEL_ece2534fe23941eda30809e426e83dc6"
          }
        },
        "b3b5429fe96f45649affeba295420575": {
          "model_module": "@jupyter-widgets/controls",
          "model_name": "HTMLModel",
          "model_module_version": "1.5.0",
          "state": {
            "_dom_classes": [],
            "_model_module": "@jupyter-widgets/controls",
            "_model_module_version": "1.5.0",
            "_model_name": "HTMLModel",
            "_view_count": null,
            "_view_module": "@jupyter-widgets/controls",
            "_view_module_version": "1.5.0",
            "_view_name": "HTMLView",
            "description": "",
            "description_tooltip": null,
            "layout": "IPY_MODEL_e72869e8d18249f7bf80efd2e0faa1f8",
            "placeholder": "​",
            "style": "IPY_MODEL_64a0f4f063374a53b118253e2c44a749",
            "value": "Downloading: 100%"
          }
        },
        "3936265797b349079a35bcfe0b99520c": {
          "model_module": "@jupyter-widgets/controls",
          "model_name": "FloatProgressModel",
          "model_module_version": "1.5.0",
          "state": {
            "_dom_classes": [],
            "_model_module": "@jupyter-widgets/controls",
            "_model_module_version": "1.5.0",
            "_model_name": "FloatProgressModel",
            "_view_count": null,
            "_view_module": "@jupyter-widgets/controls",
            "_view_module_version": "1.5.0",
            "_view_name": "ProgressView",
            "bar_style": "success",
            "description": "",
            "description_tooltip": null,
            "layout": "IPY_MODEL_64459689f82343df8336a02e488b5c19",
            "max": 1208,
            "min": 0,
            "orientation": "horizontal",
            "style": "IPY_MODEL_6d4bcafdfd9e484bbb71d502f4678a21",
            "value": 1208
          }
        },
        "3e3bbae419a3455e9b8f6f60d7c328d1": {
          "model_module": "@jupyter-widgets/controls",
          "model_name": "HTMLModel",
          "model_module_version": "1.5.0",
          "state": {
            "_dom_classes": [],
            "_model_module": "@jupyter-widgets/controls",
            "_model_module_version": "1.5.0",
            "_model_name": "HTMLModel",
            "_view_count": null,
            "_view_module": "@jupyter-widgets/controls",
            "_view_module_version": "1.5.0",
            "_view_name": "HTMLView",
            "description": "",
            "description_tooltip": null,
            "layout": "IPY_MODEL_89319dbf0ec24f7aae8df08987c5a8ff",
            "placeholder": "​",
            "style": "IPY_MODEL_dcf4e83d7fcc4f8fa4dc1dc0ad9bb328",
            "value": " 1.18k/1.18k [00:00&lt;00:00, 12.0kB/s]"
          }
        },
        "ece2534fe23941eda30809e426e83dc6": {
          "model_module": "@jupyter-widgets/base",
          "model_name": "LayoutModel",
          "model_module_version": "1.2.0",
          "state": {
            "_model_module": "@jupyter-widgets/base",
            "_model_module_version": "1.2.0",
            "_model_name": "LayoutModel",
            "_view_count": null,
            "_view_module": "@jupyter-widgets/base",
            "_view_module_version": "1.2.0",
            "_view_name": "LayoutView",
            "align_content": null,
            "align_items": null,
            "align_self": null,
            "border": null,
            "bottom": null,
            "display": null,
            "flex": null,
            "flex_flow": null,
            "grid_area": null,
            "grid_auto_columns": null,
            "grid_auto_flow": null,
            "grid_auto_rows": null,
            "grid_column": null,
            "grid_gap": null,
            "grid_row": null,
            "grid_template_areas": null,
            "grid_template_columns": null,
            "grid_template_rows": null,
            "height": null,
            "justify_content": null,
            "justify_items": null,
            "left": null,
            "margin": null,
            "max_height": null,
            "max_width": null,
            "min_height": null,
            "min_width": null,
            "object_fit": null,
            "object_position": null,
            "order": null,
            "overflow": null,
            "overflow_x": null,
            "overflow_y": null,
            "padding": null,
            "right": null,
            "top": null,
            "visibility": null,
            "width": null
          }
        },
        "e72869e8d18249f7bf80efd2e0faa1f8": {
          "model_module": "@jupyter-widgets/base",
          "model_name": "LayoutModel",
          "model_module_version": "1.2.0",
          "state": {
            "_model_module": "@jupyter-widgets/base",
            "_model_module_version": "1.2.0",
            "_model_name": "LayoutModel",
            "_view_count": null,
            "_view_module": "@jupyter-widgets/base",
            "_view_module_version": "1.2.0",
            "_view_name": "LayoutView",
            "align_content": null,
            "align_items": null,
            "align_self": null,
            "border": null,
            "bottom": null,
            "display": null,
            "flex": null,
            "flex_flow": null,
            "grid_area": null,
            "grid_auto_columns": null,
            "grid_auto_flow": null,
            "grid_auto_rows": null,
            "grid_column": null,
            "grid_gap": null,
            "grid_row": null,
            "grid_template_areas": null,
            "grid_template_columns": null,
            "grid_template_rows": null,
            "height": null,
            "justify_content": null,
            "justify_items": null,
            "left": null,
            "margin": null,
            "max_height": null,
            "max_width": null,
            "min_height": null,
            "min_width": null,
            "object_fit": null,
            "object_position": null,
            "order": null,
            "overflow": null,
            "overflow_x": null,
            "overflow_y": null,
            "padding": null,
            "right": null,
            "top": null,
            "visibility": null,
            "width": null
          }
        },
        "64a0f4f063374a53b118253e2c44a749": {
          "model_module": "@jupyter-widgets/controls",
          "model_name": "DescriptionStyleModel",
          "model_module_version": "1.5.0",
          "state": {
            "_model_module": "@jupyter-widgets/controls",
            "_model_module_version": "1.5.0",
            "_model_name": "DescriptionStyleModel",
            "_view_count": null,
            "_view_module": "@jupyter-widgets/base",
            "_view_module_version": "1.2.0",
            "_view_name": "StyleView",
            "description_width": ""
          }
        },
        "64459689f82343df8336a02e488b5c19": {
          "model_module": "@jupyter-widgets/base",
          "model_name": "LayoutModel",
          "model_module_version": "1.2.0",
          "state": {
            "_model_module": "@jupyter-widgets/base",
            "_model_module_version": "1.2.0",
            "_model_name": "LayoutModel",
            "_view_count": null,
            "_view_module": "@jupyter-widgets/base",
            "_view_module_version": "1.2.0",
            "_view_name": "LayoutView",
            "align_content": null,
            "align_items": null,
            "align_self": null,
            "border": null,
            "bottom": null,
            "display": null,
            "flex": null,
            "flex_flow": null,
            "grid_area": null,
            "grid_auto_columns": null,
            "grid_auto_flow": null,
            "grid_auto_rows": null,
            "grid_column": null,
            "grid_gap": null,
            "grid_row": null,
            "grid_template_areas": null,
            "grid_template_columns": null,
            "grid_template_rows": null,
            "height": null,
            "justify_content": null,
            "justify_items": null,
            "left": null,
            "margin": null,
            "max_height": null,
            "max_width": null,
            "min_height": null,
            "min_width": null,
            "object_fit": null,
            "object_position": null,
            "order": null,
            "overflow": null,
            "overflow_x": null,
            "overflow_y": null,
            "padding": null,
            "right": null,
            "top": null,
            "visibility": null,
            "width": null
          }
        },
        "6d4bcafdfd9e484bbb71d502f4678a21": {
          "model_module": "@jupyter-widgets/controls",
          "model_name": "ProgressStyleModel",
          "model_module_version": "1.5.0",
          "state": {
            "_model_module": "@jupyter-widgets/controls",
            "_model_module_version": "1.5.0",
            "_model_name": "ProgressStyleModel",
            "_view_count": null,
            "_view_module": "@jupyter-widgets/base",
            "_view_module_version": "1.2.0",
            "_view_name": "StyleView",
            "bar_color": null,
            "description_width": ""
          }
        },
        "89319dbf0ec24f7aae8df08987c5a8ff": {
          "model_module": "@jupyter-widgets/base",
          "model_name": "LayoutModel",
          "model_module_version": "1.2.0",
          "state": {
            "_model_module": "@jupyter-widgets/base",
            "_model_module_version": "1.2.0",
            "_model_name": "LayoutModel",
            "_view_count": null,
            "_view_module": "@jupyter-widgets/base",
            "_view_module_version": "1.2.0",
            "_view_name": "LayoutView",
            "align_content": null,
            "align_items": null,
            "align_self": null,
            "border": null,
            "bottom": null,
            "display": null,
            "flex": null,
            "flex_flow": null,
            "grid_area": null,
            "grid_auto_columns": null,
            "grid_auto_flow": null,
            "grid_auto_rows": null,
            "grid_column": null,
            "grid_gap": null,
            "grid_row": null,
            "grid_template_areas": null,
            "grid_template_columns": null,
            "grid_template_rows": null,
            "height": null,
            "justify_content": null,
            "justify_items": null,
            "left": null,
            "margin": null,
            "max_height": null,
            "max_width": null,
            "min_height": null,
            "min_width": null,
            "object_fit": null,
            "object_position": null,
            "order": null,
            "overflow": null,
            "overflow_x": null,
            "overflow_y": null,
            "padding": null,
            "right": null,
            "top": null,
            "visibility": null,
            "width": null
          }
        },
        "dcf4e83d7fcc4f8fa4dc1dc0ad9bb328": {
          "model_module": "@jupyter-widgets/controls",
          "model_name": "DescriptionStyleModel",
          "model_module_version": "1.5.0",
          "state": {
            "_model_module": "@jupyter-widgets/controls",
            "_model_module_version": "1.5.0",
            "_model_name": "DescriptionStyleModel",
            "_view_count": null,
            "_view_module": "@jupyter-widgets/base",
            "_view_module_version": "1.2.0",
            "_view_name": "StyleView",
            "description_width": ""
          }
        },
        "fb3e7a7e2a9d4a31984303ccd874288e": {
          "model_module": "@jupyter-widgets/controls",
          "model_name": "HBoxModel",
          "model_module_version": "1.5.0",
          "state": {
            "_dom_classes": [],
            "_model_module": "@jupyter-widgets/controls",
            "_model_module_version": "1.5.0",
            "_model_name": "HBoxModel",
            "_view_count": null,
            "_view_module": "@jupyter-widgets/controls",
            "_view_module_version": "1.5.0",
            "_view_name": "HBoxView",
            "box_style": "",
            "children": [
              "IPY_MODEL_07a1b832364842d3b19c0dc76e2ab067",
              "IPY_MODEL_a47bfedb75c5483bb53a9cc9c207dbfe",
              "IPY_MODEL_7e96d07501c541c8b09e2801089c5784"
            ],
            "layout": "IPY_MODEL_aaef30bf598440b59e7b26acc7e54287"
          }
        },
        "07a1b832364842d3b19c0dc76e2ab067": {
          "model_module": "@jupyter-widgets/controls",
          "model_name": "HTMLModel",
          "model_module_version": "1.5.0",
          "state": {
            "_dom_classes": [],
            "_model_module": "@jupyter-widgets/controls",
            "_model_module_version": "1.5.0",
            "_model_name": "HTMLModel",
            "_view_count": null,
            "_view_module": "@jupyter-widgets/controls",
            "_view_module_version": "1.5.0",
            "_view_name": "HTMLView",
            "description": "",
            "description_tooltip": null,
            "layout": "IPY_MODEL_011de06522164b8ea5e96f1c731b044e",
            "placeholder": "​",
            "style": "IPY_MODEL_7b71f26c98b24246970404c033b5e496",
            "value": "Downloading: 100%"
          }
        },
        "a47bfedb75c5483bb53a9cc9c207dbfe": {
          "model_module": "@jupyter-widgets/controls",
          "model_name": "FloatProgressModel",
          "model_module_version": "1.5.0",
          "state": {
            "_dom_classes": [],
            "_model_module": "@jupyter-widgets/controls",
            "_model_module_version": "1.5.0",
            "_model_name": "FloatProgressModel",
            "_view_count": null,
            "_view_module": "@jupyter-widgets/controls",
            "_view_module_version": "1.5.0",
            "_view_name": "ProgressView",
            "bar_style": "success",
            "description": "",
            "description_tooltip": null,
            "layout": "IPY_MODEL_734c770f96074f52bf4b5e8c57c61ab7",
            "max": 791656,
            "min": 0,
            "orientation": "horizontal",
            "style": "IPY_MODEL_2627935687da4bb9b128e5c73318c2f0",
            "value": 791656
          }
        },
        "7e96d07501c541c8b09e2801089c5784": {
          "model_module": "@jupyter-widgets/controls",
          "model_name": "HTMLModel",
          "model_module_version": "1.5.0",
          "state": {
            "_dom_classes": [],
            "_model_module": "@jupyter-widgets/controls",
            "_model_module_version": "1.5.0",
            "_model_name": "HTMLModel",
            "_view_count": null,
            "_view_module": "@jupyter-widgets/controls",
            "_view_module_version": "1.5.0",
            "_view_name": "HTMLView",
            "description": "",
            "description_tooltip": null,
            "layout": "IPY_MODEL_1cc0744bc24649b88d23e32c1f404400",
            "placeholder": "​",
            "style": "IPY_MODEL_d0ba3542ff034575b0ba90da7b5b7981",
            "value": " 773k/773k [00:00&lt;00:00, 3.03MB/s]"
          }
        },
        "aaef30bf598440b59e7b26acc7e54287": {
          "model_module": "@jupyter-widgets/base",
          "model_name": "LayoutModel",
          "model_module_version": "1.2.0",
          "state": {
            "_model_module": "@jupyter-widgets/base",
            "_model_module_version": "1.2.0",
            "_model_name": "LayoutModel",
            "_view_count": null,
            "_view_module": "@jupyter-widgets/base",
            "_view_module_version": "1.2.0",
            "_view_name": "LayoutView",
            "align_content": null,
            "align_items": null,
            "align_self": null,
            "border": null,
            "bottom": null,
            "display": null,
            "flex": null,
            "flex_flow": null,
            "grid_area": null,
            "grid_auto_columns": null,
            "grid_auto_flow": null,
            "grid_auto_rows": null,
            "grid_column": null,
            "grid_gap": null,
            "grid_row": null,
            "grid_template_areas": null,
            "grid_template_columns": null,
            "grid_template_rows": null,
            "height": null,
            "justify_content": null,
            "justify_items": null,
            "left": null,
            "margin": null,
            "max_height": null,
            "max_width": null,
            "min_height": null,
            "min_width": null,
            "object_fit": null,
            "object_position": null,
            "order": null,
            "overflow": null,
            "overflow_x": null,
            "overflow_y": null,
            "padding": null,
            "right": null,
            "top": null,
            "visibility": null,
            "width": null
          }
        },
        "011de06522164b8ea5e96f1c731b044e": {
          "model_module": "@jupyter-widgets/base",
          "model_name": "LayoutModel",
          "model_module_version": "1.2.0",
          "state": {
            "_model_module": "@jupyter-widgets/base",
            "_model_module_version": "1.2.0",
            "_model_name": "LayoutModel",
            "_view_count": null,
            "_view_module": "@jupyter-widgets/base",
            "_view_module_version": "1.2.0",
            "_view_name": "LayoutView",
            "align_content": null,
            "align_items": null,
            "align_self": null,
            "border": null,
            "bottom": null,
            "display": null,
            "flex": null,
            "flex_flow": null,
            "grid_area": null,
            "grid_auto_columns": null,
            "grid_auto_flow": null,
            "grid_auto_rows": null,
            "grid_column": null,
            "grid_gap": null,
            "grid_row": null,
            "grid_template_areas": null,
            "grid_template_columns": null,
            "grid_template_rows": null,
            "height": null,
            "justify_content": null,
            "justify_items": null,
            "left": null,
            "margin": null,
            "max_height": null,
            "max_width": null,
            "min_height": null,
            "min_width": null,
            "object_fit": null,
            "object_position": null,
            "order": null,
            "overflow": null,
            "overflow_x": null,
            "overflow_y": null,
            "padding": null,
            "right": null,
            "top": null,
            "visibility": null,
            "width": null
          }
        },
        "7b71f26c98b24246970404c033b5e496": {
          "model_module": "@jupyter-widgets/controls",
          "model_name": "DescriptionStyleModel",
          "model_module_version": "1.5.0",
          "state": {
            "_model_module": "@jupyter-widgets/controls",
            "_model_module_version": "1.5.0",
            "_model_name": "DescriptionStyleModel",
            "_view_count": null,
            "_view_module": "@jupyter-widgets/base",
            "_view_module_version": "1.2.0",
            "_view_name": "StyleView",
            "description_width": ""
          }
        },
        "734c770f96074f52bf4b5e8c57c61ab7": {
          "model_module": "@jupyter-widgets/base",
          "model_name": "LayoutModel",
          "model_module_version": "1.2.0",
          "state": {
            "_model_module": "@jupyter-widgets/base",
            "_model_module_version": "1.2.0",
            "_model_name": "LayoutModel",
            "_view_count": null,
            "_view_module": "@jupyter-widgets/base",
            "_view_module_version": "1.2.0",
            "_view_name": "LayoutView",
            "align_content": null,
            "align_items": null,
            "align_self": null,
            "border": null,
            "bottom": null,
            "display": null,
            "flex": null,
            "flex_flow": null,
            "grid_area": null,
            "grid_auto_columns": null,
            "grid_auto_flow": null,
            "grid_auto_rows": null,
            "grid_column": null,
            "grid_gap": null,
            "grid_row": null,
            "grid_template_areas": null,
            "grid_template_columns": null,
            "grid_template_rows": null,
            "height": null,
            "justify_content": null,
            "justify_items": null,
            "left": null,
            "margin": null,
            "max_height": null,
            "max_width": null,
            "min_height": null,
            "min_width": null,
            "object_fit": null,
            "object_position": null,
            "order": null,
            "overflow": null,
            "overflow_x": null,
            "overflow_y": null,
            "padding": null,
            "right": null,
            "top": null,
            "visibility": null,
            "width": null
          }
        },
        "2627935687da4bb9b128e5c73318c2f0": {
          "model_module": "@jupyter-widgets/controls",
          "model_name": "ProgressStyleModel",
          "model_module_version": "1.5.0",
          "state": {
            "_model_module": "@jupyter-widgets/controls",
            "_model_module_version": "1.5.0",
            "_model_name": "ProgressStyleModel",
            "_view_count": null,
            "_view_module": "@jupyter-widgets/base",
            "_view_module_version": "1.2.0",
            "_view_name": "StyleView",
            "bar_color": null,
            "description_width": ""
          }
        },
        "1cc0744bc24649b88d23e32c1f404400": {
          "model_module": "@jupyter-widgets/base",
          "model_name": "LayoutModel",
          "model_module_version": "1.2.0",
          "state": {
            "_model_module": "@jupyter-widgets/base",
            "_model_module_version": "1.2.0",
            "_model_name": "LayoutModel",
            "_view_count": null,
            "_view_module": "@jupyter-widgets/base",
            "_view_module_version": "1.2.0",
            "_view_name": "LayoutView",
            "align_content": null,
            "align_items": null,
            "align_self": null,
            "border": null,
            "bottom": null,
            "display": null,
            "flex": null,
            "flex_flow": null,
            "grid_area": null,
            "grid_auto_columns": null,
            "grid_auto_flow": null,
            "grid_auto_rows": null,
            "grid_column": null,
            "grid_gap": null,
            "grid_row": null,
            "grid_template_areas": null,
            "grid_template_columns": null,
            "grid_template_rows": null,
            "height": null,
            "justify_content": null,
            "justify_items": null,
            "left": null,
            "margin": null,
            "max_height": null,
            "max_width": null,
            "min_height": null,
            "min_width": null,
            "object_fit": null,
            "object_position": null,
            "order": null,
            "overflow": null,
            "overflow_x": null,
            "overflow_y": null,
            "padding": null,
            "right": null,
            "top": null,
            "visibility": null,
            "width": null
          }
        },
        "d0ba3542ff034575b0ba90da7b5b7981": {
          "model_module": "@jupyter-widgets/controls",
          "model_name": "DescriptionStyleModel",
          "model_module_version": "1.5.0",
          "state": {
            "_model_module": "@jupyter-widgets/controls",
            "_model_module_version": "1.5.0",
            "_model_name": "DescriptionStyleModel",
            "_view_count": null,
            "_view_module": "@jupyter-widgets/base",
            "_view_module_version": "1.2.0",
            "_view_name": "StyleView",
            "description_width": ""
          }
        },
        "34ff88b9aa2a476f96283ccd5e6a75ec": {
          "model_module": "@jupyter-widgets/controls",
          "model_name": "HBoxModel",
          "model_module_version": "1.5.0",
          "state": {
            "_dom_classes": [],
            "_model_module": "@jupyter-widgets/controls",
            "_model_module_version": "1.5.0",
            "_model_name": "HBoxModel",
            "_view_count": null,
            "_view_module": "@jupyter-widgets/controls",
            "_view_module_version": "1.5.0",
            "_view_name": "HBoxView",
            "box_style": "",
            "children": [
              "IPY_MODEL_6395d9b7551246afa370f81f791766d7",
              "IPY_MODEL_07d2a252251d49c0a010bb73764d0b66",
              "IPY_MODEL_abe38eda4e4447a0a960873df896b604"
            ],
            "layout": "IPY_MODEL_cc655204e6894914b00e4bccd374ea57"
          }
        },
        "6395d9b7551246afa370f81f791766d7": {
          "model_module": "@jupyter-widgets/controls",
          "model_name": "HTMLModel",
          "model_module_version": "1.5.0",
          "state": {
            "_dom_classes": [],
            "_model_module": "@jupyter-widgets/controls",
            "_model_module_version": "1.5.0",
            "_model_name": "HTMLModel",
            "_view_count": null,
            "_view_module": "@jupyter-widgets/controls",
            "_view_module_version": "1.5.0",
            "_view_name": "HTMLView",
            "description": "",
            "description_tooltip": null,
            "layout": "IPY_MODEL_5f7c8daaa1304f13a6aba078d5842358",
            "placeholder": "​",
            "style": "IPY_MODEL_5c4c6149e81a4e0ebb221de144ec0c3e",
            "value": "Downloading: 100%"
          }
        },
        "07d2a252251d49c0a010bb73764d0b66": {
          "model_module": "@jupyter-widgets/controls",
          "model_name": "FloatProgressModel",
          "model_module_version": "1.5.0",
          "state": {
            "_dom_classes": [],
            "_model_module": "@jupyter-widgets/controls",
            "_model_module_version": "1.5.0",
            "_model_name": "FloatProgressModel",
            "_view_count": null,
            "_view_module": "@jupyter-widgets/controls",
            "_view_module_version": "1.5.0",
            "_view_name": "ProgressView",
            "bar_style": "success",
            "description": "",
            "description_tooltip": null,
            "layout": "IPY_MODEL_6416e8c806184d289c202d0ab879a5e3",
            "max": 1786,
            "min": 0,
            "orientation": "horizontal",
            "style": "IPY_MODEL_a6fedf71d72446959380e99fbc809137",
            "value": 1786
          }
        },
        "abe38eda4e4447a0a960873df896b604": {
          "model_module": "@jupyter-widgets/controls",
          "model_name": "HTMLModel",
          "model_module_version": "1.5.0",
          "state": {
            "_dom_classes": [],
            "_model_module": "@jupyter-widgets/controls",
            "_model_module_version": "1.5.0",
            "_model_name": "HTMLModel",
            "_view_count": null,
            "_view_module": "@jupyter-widgets/controls",
            "_view_module_version": "1.5.0",
            "_view_name": "HTMLView",
            "description": "",
            "description_tooltip": null,
            "layout": "IPY_MODEL_918f051520ec468993e5ca8f7e021556",
            "placeholder": "​",
            "style": "IPY_MODEL_467912241b6f40738f93649ee0106eff",
            "value": " 1.74k/1.74k [00:00&lt;00:00, 10.0kB/s]"
          }
        },
        "cc655204e6894914b00e4bccd374ea57": {
          "model_module": "@jupyter-widgets/base",
          "model_name": "LayoutModel",
          "model_module_version": "1.2.0",
          "state": {
            "_model_module": "@jupyter-widgets/base",
            "_model_module_version": "1.2.0",
            "_model_name": "LayoutModel",
            "_view_count": null,
            "_view_module": "@jupyter-widgets/base",
            "_view_module_version": "1.2.0",
            "_view_name": "LayoutView",
            "align_content": null,
            "align_items": null,
            "align_self": null,
            "border": null,
            "bottom": null,
            "display": null,
            "flex": null,
            "flex_flow": null,
            "grid_area": null,
            "grid_auto_columns": null,
            "grid_auto_flow": null,
            "grid_auto_rows": null,
            "grid_column": null,
            "grid_gap": null,
            "grid_row": null,
            "grid_template_areas": null,
            "grid_template_columns": null,
            "grid_template_rows": null,
            "height": null,
            "justify_content": null,
            "justify_items": null,
            "left": null,
            "margin": null,
            "max_height": null,
            "max_width": null,
            "min_height": null,
            "min_width": null,
            "object_fit": null,
            "object_position": null,
            "order": null,
            "overflow": null,
            "overflow_x": null,
            "overflow_y": null,
            "padding": null,
            "right": null,
            "top": null,
            "visibility": null,
            "width": null
          }
        },
        "5f7c8daaa1304f13a6aba078d5842358": {
          "model_module": "@jupyter-widgets/base",
          "model_name": "LayoutModel",
          "model_module_version": "1.2.0",
          "state": {
            "_model_module": "@jupyter-widgets/base",
            "_model_module_version": "1.2.0",
            "_model_name": "LayoutModel",
            "_view_count": null,
            "_view_module": "@jupyter-widgets/base",
            "_view_module_version": "1.2.0",
            "_view_name": "LayoutView",
            "align_content": null,
            "align_items": null,
            "align_self": null,
            "border": null,
            "bottom": null,
            "display": null,
            "flex": null,
            "flex_flow": null,
            "grid_area": null,
            "grid_auto_columns": null,
            "grid_auto_flow": null,
            "grid_auto_rows": null,
            "grid_column": null,
            "grid_gap": null,
            "grid_row": null,
            "grid_template_areas": null,
            "grid_template_columns": null,
            "grid_template_rows": null,
            "height": null,
            "justify_content": null,
            "justify_items": null,
            "left": null,
            "margin": null,
            "max_height": null,
            "max_width": null,
            "min_height": null,
            "min_width": null,
            "object_fit": null,
            "object_position": null,
            "order": null,
            "overflow": null,
            "overflow_x": null,
            "overflow_y": null,
            "padding": null,
            "right": null,
            "top": null,
            "visibility": null,
            "width": null
          }
        },
        "5c4c6149e81a4e0ebb221de144ec0c3e": {
          "model_module": "@jupyter-widgets/controls",
          "model_name": "DescriptionStyleModel",
          "model_module_version": "1.5.0",
          "state": {
            "_model_module": "@jupyter-widgets/controls",
            "_model_module_version": "1.5.0",
            "_model_name": "DescriptionStyleModel",
            "_view_count": null,
            "_view_module": "@jupyter-widgets/base",
            "_view_module_version": "1.2.0",
            "_view_name": "StyleView",
            "description_width": ""
          }
        },
        "6416e8c806184d289c202d0ab879a5e3": {
          "model_module": "@jupyter-widgets/base",
          "model_name": "LayoutModel",
          "model_module_version": "1.2.0",
          "state": {
            "_model_module": "@jupyter-widgets/base",
            "_model_module_version": "1.2.0",
            "_model_name": "LayoutModel",
            "_view_count": null,
            "_view_module": "@jupyter-widgets/base",
            "_view_module_version": "1.2.0",
            "_view_name": "LayoutView",
            "align_content": null,
            "align_items": null,
            "align_self": null,
            "border": null,
            "bottom": null,
            "display": null,
            "flex": null,
            "flex_flow": null,
            "grid_area": null,
            "grid_auto_columns": null,
            "grid_auto_flow": null,
            "grid_auto_rows": null,
            "grid_column": null,
            "grid_gap": null,
            "grid_row": null,
            "grid_template_areas": null,
            "grid_template_columns": null,
            "grid_template_rows": null,
            "height": null,
            "justify_content": null,
            "justify_items": null,
            "left": null,
            "margin": null,
            "max_height": null,
            "max_width": null,
            "min_height": null,
            "min_width": null,
            "object_fit": null,
            "object_position": null,
            "order": null,
            "overflow": null,
            "overflow_x": null,
            "overflow_y": null,
            "padding": null,
            "right": null,
            "top": null,
            "visibility": null,
            "width": null
          }
        },
        "a6fedf71d72446959380e99fbc809137": {
          "model_module": "@jupyter-widgets/controls",
          "model_name": "ProgressStyleModel",
          "model_module_version": "1.5.0",
          "state": {
            "_model_module": "@jupyter-widgets/controls",
            "_model_module_version": "1.5.0",
            "_model_name": "ProgressStyleModel",
            "_view_count": null,
            "_view_module": "@jupyter-widgets/base",
            "_view_module_version": "1.2.0",
            "_view_name": "StyleView",
            "bar_color": null,
            "description_width": ""
          }
        },
        "918f051520ec468993e5ca8f7e021556": {
          "model_module": "@jupyter-widgets/base",
          "model_name": "LayoutModel",
          "model_module_version": "1.2.0",
          "state": {
            "_model_module": "@jupyter-widgets/base",
            "_model_module_version": "1.2.0",
            "_model_name": "LayoutModel",
            "_view_count": null,
            "_view_module": "@jupyter-widgets/base",
            "_view_module_version": "1.2.0",
            "_view_name": "LayoutView",
            "align_content": null,
            "align_items": null,
            "align_self": null,
            "border": null,
            "bottom": null,
            "display": null,
            "flex": null,
            "flex_flow": null,
            "grid_area": null,
            "grid_auto_columns": null,
            "grid_auto_flow": null,
            "grid_auto_rows": null,
            "grid_column": null,
            "grid_gap": null,
            "grid_row": null,
            "grid_template_areas": null,
            "grid_template_columns": null,
            "grid_template_rows": null,
            "height": null,
            "justify_content": null,
            "justify_items": null,
            "left": null,
            "margin": null,
            "max_height": null,
            "max_width": null,
            "min_height": null,
            "min_width": null,
            "object_fit": null,
            "object_position": null,
            "order": null,
            "overflow": null,
            "overflow_x": null,
            "overflow_y": null,
            "padding": null,
            "right": null,
            "top": null,
            "visibility": null,
            "width": null
          }
        },
        "467912241b6f40738f93649ee0106eff": {
          "model_module": "@jupyter-widgets/controls",
          "model_name": "DescriptionStyleModel",
          "model_module_version": "1.5.0",
          "state": {
            "_model_module": "@jupyter-widgets/controls",
            "_model_module_version": "1.5.0",
            "_model_name": "DescriptionStyleModel",
            "_view_count": null,
            "_view_module": "@jupyter-widgets/base",
            "_view_module_version": "1.2.0",
            "_view_name": "StyleView",
            "description_width": ""
          }
        },
        "cc30c5ad88a745a9bc0f71145d9a361b": {
          "model_module": "@jupyter-widgets/controls",
          "model_name": "HBoxModel",
          "model_module_version": "1.5.0",
          "state": {
            "_dom_classes": [],
            "_model_module": "@jupyter-widgets/controls",
            "_model_module_version": "1.5.0",
            "_model_name": "HBoxModel",
            "_view_count": null,
            "_view_module": "@jupyter-widgets/controls",
            "_view_module_version": "1.5.0",
            "_view_name": "HBoxView",
            "box_style": "",
            "children": [
              "IPY_MODEL_90f6e4c5cfcd471db1d16d8abf8362a7",
              "IPY_MODEL_5799ba3c78cf4a4a87484e1ecbe85ca5",
              "IPY_MODEL_4fce57b87a3340699581a10deb4cf2f4"
            ],
            "layout": "IPY_MODEL_ade39ae91520492caa6e4ab16c0d2efa"
          }
        },
        "90f6e4c5cfcd471db1d16d8abf8362a7": {
          "model_module": "@jupyter-widgets/controls",
          "model_name": "HTMLModel",
          "model_module_version": "1.5.0",
          "state": {
            "_dom_classes": [],
            "_model_module": "@jupyter-widgets/controls",
            "_model_module_version": "1.5.0",
            "_model_name": "HTMLModel",
            "_view_count": null,
            "_view_module": "@jupyter-widgets/controls",
            "_view_module_version": "1.5.0",
            "_view_name": "HTMLView",
            "description": "",
            "description_tooltip": null,
            "layout": "IPY_MODEL_9e154faf77fa4132b9ac470415225916",
            "placeholder": "​",
            "style": "IPY_MODEL_241613f9fb2c4a389a68d459f4e9bbc2",
            "value": "Downloading: 100%"
          }
        },
        "5799ba3c78cf4a4a87484e1ecbe85ca5": {
          "model_module": "@jupyter-widgets/controls",
          "model_name": "FloatProgressModel",
          "model_module_version": "1.5.0",
          "state": {
            "_dom_classes": [],
            "_model_module": "@jupyter-widgets/controls",
            "_model_module_version": "1.5.0",
            "_model_name": "FloatProgressModel",
            "_view_count": null,
            "_view_module": "@jupyter-widgets/controls",
            "_view_module_version": "1.5.0",
            "_view_name": "ProgressView",
            "bar_style": "success",
            "description": "",
            "description_tooltip": null,
            "layout": "IPY_MODEL_5d37b861f5e94792a5eb4e312a9182d1",
            "max": 891692894,
            "min": 0,
            "orientation": "horizontal",
            "style": "IPY_MODEL_36d441bf983a4cf7a92505c474219921",
            "value": 891692894
          }
        },
        "4fce57b87a3340699581a10deb4cf2f4": {
          "model_module": "@jupyter-widgets/controls",
          "model_name": "HTMLModel",
          "model_module_version": "1.5.0",
          "state": {
            "_dom_classes": [],
            "_model_module": "@jupyter-widgets/controls",
            "_model_module_version": "1.5.0",
            "_model_name": "HTMLModel",
            "_view_count": null,
            "_view_module": "@jupyter-widgets/controls",
            "_view_module_version": "1.5.0",
            "_view_name": "HTMLView",
            "description": "",
            "description_tooltip": null,
            "layout": "IPY_MODEL_58b465d238c245bf8b2c643d0cf01860",
            "placeholder": "​",
            "style": "IPY_MODEL_0fa1f45373434bd6824525e80b1ff5ab",
            "value": " 850M/850M [00:38&lt;00:00, 9.77MB/s]"
          }
        },
        "ade39ae91520492caa6e4ab16c0d2efa": {
          "model_module": "@jupyter-widgets/base",
          "model_name": "LayoutModel",
          "model_module_version": "1.2.0",
          "state": {
            "_model_module": "@jupyter-widgets/base",
            "_model_module_version": "1.2.0",
            "_model_name": "LayoutModel",
            "_view_count": null,
            "_view_module": "@jupyter-widgets/base",
            "_view_module_version": "1.2.0",
            "_view_name": "LayoutView",
            "align_content": null,
            "align_items": null,
            "align_self": null,
            "border": null,
            "bottom": null,
            "display": null,
            "flex": null,
            "flex_flow": null,
            "grid_area": null,
            "grid_auto_columns": null,
            "grid_auto_flow": null,
            "grid_auto_rows": null,
            "grid_column": null,
            "grid_gap": null,
            "grid_row": null,
            "grid_template_areas": null,
            "grid_template_columns": null,
            "grid_template_rows": null,
            "height": null,
            "justify_content": null,
            "justify_items": null,
            "left": null,
            "margin": null,
            "max_height": null,
            "max_width": null,
            "min_height": null,
            "min_width": null,
            "object_fit": null,
            "object_position": null,
            "order": null,
            "overflow": null,
            "overflow_x": null,
            "overflow_y": null,
            "padding": null,
            "right": null,
            "top": null,
            "visibility": null,
            "width": null
          }
        },
        "9e154faf77fa4132b9ac470415225916": {
          "model_module": "@jupyter-widgets/base",
          "model_name": "LayoutModel",
          "model_module_version": "1.2.0",
          "state": {
            "_model_module": "@jupyter-widgets/base",
            "_model_module_version": "1.2.0",
            "_model_name": "LayoutModel",
            "_view_count": null,
            "_view_module": "@jupyter-widgets/base",
            "_view_module_version": "1.2.0",
            "_view_name": "LayoutView",
            "align_content": null,
            "align_items": null,
            "align_self": null,
            "border": null,
            "bottom": null,
            "display": null,
            "flex": null,
            "flex_flow": null,
            "grid_area": null,
            "grid_auto_columns": null,
            "grid_auto_flow": null,
            "grid_auto_rows": null,
            "grid_column": null,
            "grid_gap": null,
            "grid_row": null,
            "grid_template_areas": null,
            "grid_template_columns": null,
            "grid_template_rows": null,
            "height": null,
            "justify_content": null,
            "justify_items": null,
            "left": null,
            "margin": null,
            "max_height": null,
            "max_width": null,
            "min_height": null,
            "min_width": null,
            "object_fit": null,
            "object_position": null,
            "order": null,
            "overflow": null,
            "overflow_x": null,
            "overflow_y": null,
            "padding": null,
            "right": null,
            "top": null,
            "visibility": null,
            "width": null
          }
        },
        "241613f9fb2c4a389a68d459f4e9bbc2": {
          "model_module": "@jupyter-widgets/controls",
          "model_name": "DescriptionStyleModel",
          "model_module_version": "1.5.0",
          "state": {
            "_model_module": "@jupyter-widgets/controls",
            "_model_module_version": "1.5.0",
            "_model_name": "DescriptionStyleModel",
            "_view_count": null,
            "_view_module": "@jupyter-widgets/base",
            "_view_module_version": "1.2.0",
            "_view_name": "StyleView",
            "description_width": ""
          }
        },
        "5d37b861f5e94792a5eb4e312a9182d1": {
          "model_module": "@jupyter-widgets/base",
          "model_name": "LayoutModel",
          "model_module_version": "1.2.0",
          "state": {
            "_model_module": "@jupyter-widgets/base",
            "_model_module_version": "1.2.0",
            "_model_name": "LayoutModel",
            "_view_count": null,
            "_view_module": "@jupyter-widgets/base",
            "_view_module_version": "1.2.0",
            "_view_name": "LayoutView",
            "align_content": null,
            "align_items": null,
            "align_self": null,
            "border": null,
            "bottom": null,
            "display": null,
            "flex": null,
            "flex_flow": null,
            "grid_area": null,
            "grid_auto_columns": null,
            "grid_auto_flow": null,
            "grid_auto_rows": null,
            "grid_column": null,
            "grid_gap": null,
            "grid_row": null,
            "grid_template_areas": null,
            "grid_template_columns": null,
            "grid_template_rows": null,
            "height": null,
            "justify_content": null,
            "justify_items": null,
            "left": null,
            "margin": null,
            "max_height": null,
            "max_width": null,
            "min_height": null,
            "min_width": null,
            "object_fit": null,
            "object_position": null,
            "order": null,
            "overflow": null,
            "overflow_x": null,
            "overflow_y": null,
            "padding": null,
            "right": null,
            "top": null,
            "visibility": null,
            "width": null
          }
        },
        "36d441bf983a4cf7a92505c474219921": {
          "model_module": "@jupyter-widgets/controls",
          "model_name": "ProgressStyleModel",
          "model_module_version": "1.5.0",
          "state": {
            "_model_module": "@jupyter-widgets/controls",
            "_model_module_version": "1.5.0",
            "_model_name": "ProgressStyleModel",
            "_view_count": null,
            "_view_module": "@jupyter-widgets/base",
            "_view_module_version": "1.2.0",
            "_view_name": "StyleView",
            "bar_color": null,
            "description_width": ""
          }
        },
        "58b465d238c245bf8b2c643d0cf01860": {
          "model_module": "@jupyter-widgets/base",
          "model_name": "LayoutModel",
          "model_module_version": "1.2.0",
          "state": {
            "_model_module": "@jupyter-widgets/base",
            "_model_module_version": "1.2.0",
            "_model_name": "LayoutModel",
            "_view_count": null,
            "_view_module": "@jupyter-widgets/base",
            "_view_module_version": "1.2.0",
            "_view_name": "LayoutView",
            "align_content": null,
            "align_items": null,
            "align_self": null,
            "border": null,
            "bottom": null,
            "display": null,
            "flex": null,
            "flex_flow": null,
            "grid_area": null,
            "grid_auto_columns": null,
            "grid_auto_flow": null,
            "grid_auto_rows": null,
            "grid_column": null,
            "grid_gap": null,
            "grid_row": null,
            "grid_template_areas": null,
            "grid_template_columns": null,
            "grid_template_rows": null,
            "height": null,
            "justify_content": null,
            "justify_items": null,
            "left": null,
            "margin": null,
            "max_height": null,
            "max_width": null,
            "min_height": null,
            "min_width": null,
            "object_fit": null,
            "object_position": null,
            "order": null,
            "overflow": null,
            "overflow_x": null,
            "overflow_y": null,
            "padding": null,
            "right": null,
            "top": null,
            "visibility": null,
            "width": null
          }
        },
        "0fa1f45373434bd6824525e80b1ff5ab": {
          "model_module": "@jupyter-widgets/controls",
          "model_name": "DescriptionStyleModel",
          "model_module_version": "1.5.0",
          "state": {
            "_model_module": "@jupyter-widgets/controls",
            "_model_module_version": "1.5.0",
            "_model_name": "DescriptionStyleModel",
            "_view_count": null,
            "_view_module": "@jupyter-widgets/base",
            "_view_module_version": "1.2.0",
            "_view_name": "StyleView",
            "description_width": ""
          }
        }
      }
    }
  },
  "nbformat": 4,
  "nbformat_minor": 0
}